{
 "cells": [
  {
   "cell_type": "markdown",
   "id": "0037c146-943a-43df-b5d6-d1d0b5a8189a",
   "metadata": {},
   "source": [
    "# Global mean Sea Surface Temperatures"
   ]
  },
  {
   "cell_type": "code",
   "execution_count": 1,
   "id": "1df62f37-e43c-4f83-9107-5cebfdbacca9",
   "metadata": {},
   "outputs": [],
   "source": [
    "import platform\n",
    "import os\n",
    "\n",
    "import numpy as np\n",
    "import xarray as xr\n",
    "import pandas as pd\n",
    "\n",
    "from calendar import monthrange\n",
    "\n",
    "from dask.distributed import Client\n",
    "from dask import delayed\n",
    "import dask\n",
    "\n",
    "import matplotlib.pyplot as plt\n",
    "from matplotlib.dates import DateFormatter\n",
    "\n",
    "import cartopy.crs as ccrs\n",
    "import cartopy\n",
    "import cartopy.feature as cfeature\n",
    "\n",
    "from shapely.geometry import Polygon, Point\n",
    "from shapely.ops import transform\n",
    "import pyproj\n",
    "\n",
    "plt.rcParams['figure.figsize'] = (10, 4)"
   ]
  },
  {
   "cell_type": "code",
   "execution_count": 2,
   "id": "96a0cb05",
   "metadata": {},
   "outputs": [],
   "source": [
    "# Define a transformation to ensure the polygon's CRS matches\n",
    "# Transform the polygon to match the DataArray CRS if needed\n",
    "def transform_polygon(polygon, src_crs='epsg:4326', tgt_crs='epsg:4326'):\n",
    "    proj = pyproj.Transformer.from_proj(pyproj.Proj(src_crs), pyproj.Proj(tgt_crs), always_xy=True)\n",
    "    return transform(lambda x, y: proj.transform(x, y), polygon)"
   ]
  },
  {
   "cell_type": "code",
   "execution_count": 3,
   "id": "fc159cfd",
   "metadata": {},
   "outputs": [],
   "source": [
    "def point_in_polygon(lon, lat, polygon):\n",
    "    point = Point(lon, lat)\n",
    "    return polygon.contains(point)"
   ]
  },
  {
   "cell_type": "markdown",
   "id": "4e010352-6479-443b-8466-06aac184f261",
   "metadata": {},
   "source": [
    "# Settings"
   ]
  },
  {
   "cell_type": "markdown",
   "id": "769bb64d",
   "metadata": {},
   "source": [
    "# Inicio"
   ]
  },
  {
   "cell_type": "code",
   "execution_count": 4,
   "id": "d11420d4",
   "metadata": {},
   "outputs": [],
   "source": [
    "HOME=os.environ['HOME']   \n",
    "f = open(HOME+'/.env', 'r')\n",
    "for line in f.readlines():\n",
    "    Name=line.strip().split('=')[0]\n",
    "    Content=line.strip().split('=')[-1]\n",
    "    if Name=='dirData' or Name=='dirAnalisis':\n",
    "        exec(Name + \"=\" + \"'\" + Content + \"'\")\n",
    "f.close()"
   ]
  },
  {
   "cell_type": "code",
   "execution_count": 5,
   "id": "b7a97b46",
   "metadata": {},
   "outputs": [],
   "source": [
    "if os.uname().nodename.lower().find('eemmmbp') != -1:\n",
    "    base_file = dirData + '/Satelite/MUR/NC/'\n",
    "    dataDir   = dirAnalisis + '/SSTGlobalAnalysis/data'\n",
    "elif os.uname().nodename.lower().find('sagams') != -1:\n",
    "    base_file = dirData + '/Satelite/MUR/NC/'\n",
    "    dataDir   = dirAnalisis + '/SSTGlobalAnalysis/data'\n",
    "elif os.uname().nodename.lower().find('rossby') != -1:\n",
    "    base_file = dirData + '/Satelite/MUR/NC/'\n",
    "    dataDir   = dirAnalisis + '/SSTGlobalAnalysis/data'"
   ]
  },
  {
   "cell_type": "code",
   "execution_count": 6,
   "id": "2fad8099",
   "metadata": {},
   "outputs": [
    {
     "data": {
      "text/plain": [
       "'/data/pvb/Satelite/MUR/NC/'"
      ]
     },
     "execution_count": 6,
     "metadata": {},
     "output_type": "execute_result"
    }
   ],
   "source": [
    "base_file"
   ]
  },
  {
   "cell_type": "markdown",
   "id": "87781c5c-5ee1-4068-9962-e9cef21a2291",
   "metadata": {},
   "source": [
    "## Load data"
   ]
  },
  {
   "cell_type": "code",
   "execution_count": 7,
   "id": "609a9060",
   "metadata": {},
   "outputs": [],
   "source": [
    "year1= 2003\n",
    "year2= 2013\n",
    "files = []\n",
    "for iy in range(year1,year2+1):\n",
    "    for im in range(1,13):\n",
    "        for id in range(1,monthrange(iy,im)[1]+1):\n",
    "            files.append(base_file+\"%04d%02d%02d090000-JPL-L4_GHRSST-SSTfnd-MUR-GLOB-v02.0-fv04.1.nc\"%(iy,im,id))"
   ]
  },
  {
   "cell_type": "code",
   "execution_count": 8,
   "id": "9d63a86b-a734-46b6-80eb-d8f0545badfb",
   "metadata": {},
   "outputs": [],
   "source": [
    "DS = xr.open_mfdataset(files)"
   ]
  },
  {
   "cell_type": "code",
   "execution_count": 9,
   "id": "f8a40bfe",
   "metadata": {},
   "outputs": [],
   "source": [
    "year1= 2014\n",
    "year2= 2019\n",
    "files = []\n",
    "for iy in range(year1,year2+1):\n",
    "    for im in range(1,13):\n",
    "        for id in range(1,monthrange(iy,im)[1]+1):\n",
    "            files.append(base_file+\"%04d%02d%02d090000-JPL-L4_GHRSST-SSTfnd-MUR-GLOB-v02.0-fv04.1.nc\"%(iy,im,id))"
   ]
  },
  {
   "cell_type": "code",
   "execution_count": 10,
   "id": "b2534da6",
   "metadata": {},
   "outputs": [
    {
     "name": "stderr",
     "output_type": "stream",
     "text": [
      "/opt/conda/envs/ocean/lib/python3.11/site-packages/xarray/core/indexing.py:1593: PerformanceWarning: Slicing is producing a large chunk. To accept the large\n",
      "chunk and silence this warning, set the option\n",
      "    >>> with dask.config.set(**{'array.slicing.split_large_chunks': False}):\n",
      "    ...     array[indexer]\n",
      "\n",
      "To avoid creating the large chunks, set the option\n",
      "    >>> with dask.config.set(**{'array.slicing.split_large_chunks': True}):\n",
      "    ...     array[indexer]\n",
      "  return self.array[key]\n",
      "/opt/conda/envs/ocean/lib/python3.11/site-packages/dask/array/core.py:4832: PerformanceWarning: Increasing number of chunks by factor of 18\n",
      "  result = blockwise(\n",
      "/opt/conda/envs/ocean/lib/python3.11/site-packages/dask/array/core.py:4832: PerformanceWarning: Increasing number of chunks by factor of 18\n",
      "  result = blockwise(\n",
      "/opt/conda/envs/ocean/lib/python3.11/site-packages/xarray/core/indexing.py:1593: PerformanceWarning: Slicing is producing a large chunk. To accept the large\n",
      "chunk and silence this warning, set the option\n",
      "    >>> with dask.config.set(**{'array.slicing.split_large_chunks': False}):\n",
      "    ...     array[indexer]\n",
      "\n",
      "To avoid creating the large chunks, set the option\n",
      "    >>> with dask.config.set(**{'array.slicing.split_large_chunks': True}):\n",
      "    ...     array[indexer]\n",
      "  return self.array[key]\n",
      "/opt/conda/envs/ocean/lib/python3.11/site-packages/dask/array/core.py:4832: PerformanceWarning: Increasing number of chunks by factor of 18\n",
      "  result = blockwise(\n",
      "/opt/conda/envs/ocean/lib/python3.11/site-packages/dask/array/core.py:4832: PerformanceWarning: Increasing number of chunks by factor of 18\n",
      "  result = blockwise(\n",
      "/opt/conda/envs/ocean/lib/python3.11/site-packages/xarray/core/indexing.py:1593: PerformanceWarning: Slicing is producing a large chunk. To accept the large\n",
      "chunk and silence this warning, set the option\n",
      "    >>> with dask.config.set(**{'array.slicing.split_large_chunks': False}):\n",
      "    ...     array[indexer]\n",
      "\n",
      "To avoid creating the large chunks, set the option\n",
      "    >>> with dask.config.set(**{'array.slicing.split_large_chunks': True}):\n",
      "    ...     array[indexer]\n",
      "  return self.array[key]\n",
      "/opt/conda/envs/ocean/lib/python3.11/site-packages/dask/array/core.py:4832: PerformanceWarning: Increasing number of chunks by factor of 13\n",
      "  result = blockwise(\n",
      "/opt/conda/envs/ocean/lib/python3.11/site-packages/dask/array/core.py:4832: PerformanceWarning: Increasing number of chunks by factor of 13\n",
      "  result = blockwise(\n",
      "/opt/conda/envs/ocean/lib/python3.11/site-packages/xarray/core/indexing.py:1593: PerformanceWarning: Slicing is producing a large chunk. To accept the large\n",
      "chunk and silence this warning, set the option\n",
      "    >>> with dask.config.set(**{'array.slicing.split_large_chunks': False}):\n",
      "    ...     array[indexer]\n",
      "\n",
      "To avoid creating the large chunks, set the option\n",
      "    >>> with dask.config.set(**{'array.slicing.split_large_chunks': True}):\n",
      "    ...     array[indexer]\n",
      "  return self.array[key]\n",
      "/opt/conda/envs/ocean/lib/python3.11/site-packages/dask/array/core.py:4832: PerformanceWarning: Increasing number of chunks by factor of 13\n",
      "  result = blockwise(\n",
      "/opt/conda/envs/ocean/lib/python3.11/site-packages/dask/array/core.py:4832: PerformanceWarning: Increasing number of chunks by factor of 13\n",
      "  result = blockwise(\n",
      "/opt/conda/envs/ocean/lib/python3.11/site-packages/xarray/core/indexing.py:1593: PerformanceWarning: Slicing is producing a large chunk. To accept the large\n",
      "chunk and silence this warning, set the option\n",
      "    >>> with dask.config.set(**{'array.slicing.split_large_chunks': False}):\n",
      "    ...     array[indexer]\n",
      "\n",
      "To avoid creating the large chunks, set the option\n",
      "    >>> with dask.config.set(**{'array.slicing.split_large_chunks': True}):\n",
      "    ...     array[indexer]\n",
      "  return self.array[key]\n",
      "/opt/conda/envs/ocean/lib/python3.11/site-packages/dask/array/core.py:4832: PerformanceWarning: Increasing number of chunks by factor of 13\n",
      "  result = blockwise(\n",
      "/opt/conda/envs/ocean/lib/python3.11/site-packages/dask/array/core.py:4832: PerformanceWarning: Increasing number of chunks by factor of 13\n",
      "  result = blockwise(\n",
      "/opt/conda/envs/ocean/lib/python3.11/site-packages/xarray/core/indexing.py:1593: PerformanceWarning: Slicing is producing a large chunk. To accept the large\n",
      "chunk and silence this warning, set the option\n",
      "    >>> with dask.config.set(**{'array.slicing.split_large_chunks': False}):\n",
      "    ...     array[indexer]\n",
      "\n",
      "To avoid creating the large chunks, set the option\n",
      "    >>> with dask.config.set(**{'array.slicing.split_large_chunks': True}):\n",
      "    ...     array[indexer]\n",
      "  return self.array[key]\n",
      "/opt/conda/envs/ocean/lib/python3.11/site-packages/dask/array/core.py:4832: PerformanceWarning: Increasing number of chunks by factor of 18\n",
      "  result = blockwise(\n",
      "/opt/conda/envs/ocean/lib/python3.11/site-packages/dask/array/core.py:4832: PerformanceWarning: Increasing number of chunks by factor of 18\n",
      "  result = blockwise(\n",
      "/opt/conda/envs/ocean/lib/python3.11/site-packages/xarray/core/indexing.py:1593: PerformanceWarning: Slicing is producing a large chunk. To accept the large\n",
      "chunk and silence this warning, set the option\n",
      "    >>> with dask.config.set(**{'array.slicing.split_large_chunks': False}):\n",
      "    ...     array[indexer]\n",
      "\n",
      "To avoid creating the large chunks, set the option\n",
      "    >>> with dask.config.set(**{'array.slicing.split_large_chunks': True}):\n",
      "    ...     array[indexer]\n",
      "  return self.array[key]\n",
      "/opt/conda/envs/ocean/lib/python3.11/site-packages/dask/array/core.py:4832: PerformanceWarning: Increasing number of chunks by factor of 18\n",
      "  result = blockwise(\n",
      "/opt/conda/envs/ocean/lib/python3.11/site-packages/dask/array/core.py:4832: PerformanceWarning: Increasing number of chunks by factor of 18\n",
      "  result = blockwise(\n",
      "/opt/conda/envs/ocean/lib/python3.11/site-packages/xarray/core/indexing.py:1593: PerformanceWarning: Slicing is producing a large chunk. To accept the large\n",
      "chunk and silence this warning, set the option\n",
      "    >>> with dask.config.set(**{'array.slicing.split_large_chunks': False}):\n",
      "    ...     array[indexer]\n",
      "\n",
      "To avoid creating the large chunks, set the option\n",
      "    >>> with dask.config.set(**{'array.slicing.split_large_chunks': True}):\n",
      "    ...     array[indexer]\n",
      "  return self.array[key]\n",
      "/opt/conda/envs/ocean/lib/python3.11/site-packages/dask/array/core.py:4832: PerformanceWarning: Increasing number of chunks by factor of 13\n",
      "  result = blockwise(\n",
      "/opt/conda/envs/ocean/lib/python3.11/site-packages/dask/array/core.py:4832: PerformanceWarning: Increasing number of chunks by factor of 13\n",
      "  result = blockwise(\n",
      "/opt/conda/envs/ocean/lib/python3.11/site-packages/xarray/core/indexing.py:1593: PerformanceWarning: Slicing is producing a large chunk. To accept the large\n",
      "chunk and silence this warning, set the option\n",
      "    >>> with dask.config.set(**{'array.slicing.split_large_chunks': False}):\n",
      "    ...     array[indexer]\n",
      "\n",
      "To avoid creating the large chunks, set the option\n",
      "    >>> with dask.config.set(**{'array.slicing.split_large_chunks': True}):\n",
      "    ...     array[indexer]\n",
      "  return self.array[key]\n",
      "/opt/conda/envs/ocean/lib/python3.11/site-packages/dask/array/core.py:4832: PerformanceWarning: Increasing number of chunks by factor of 13\n",
      "  result = blockwise(\n",
      "/opt/conda/envs/ocean/lib/python3.11/site-packages/dask/array/core.py:4832: PerformanceWarning: Increasing number of chunks by factor of 13\n",
      "  result = blockwise(\n",
      "/opt/conda/envs/ocean/lib/python3.11/site-packages/xarray/core/indexing.py:1593: PerformanceWarning: Slicing is producing a large chunk. To accept the large\n",
      "chunk and silence this warning, set the option\n",
      "    >>> with dask.config.set(**{'array.slicing.split_large_chunks': False}):\n",
      "    ...     array[indexer]\n",
      "\n",
      "To avoid creating the large chunks, set the option\n",
      "    >>> with dask.config.set(**{'array.slicing.split_large_chunks': True}):\n",
      "    ...     array[indexer]\n",
      "  return self.array[key]\n",
      "/opt/conda/envs/ocean/lib/python3.11/site-packages/dask/array/core.py:4832: PerformanceWarning: Increasing number of chunks by factor of 13\n",
      "  result = blockwise(\n",
      "/opt/conda/envs/ocean/lib/python3.11/site-packages/dask/array/core.py:4832: PerformanceWarning: Increasing number of chunks by factor of 13\n",
      "  result = blockwise(\n",
      "/opt/conda/envs/ocean/lib/python3.11/site-packages/xarray/core/indexing.py:1593: PerformanceWarning: Slicing is producing a large chunk. To accept the large\n",
      "chunk and silence this warning, set the option\n",
      "    >>> with dask.config.set(**{'array.slicing.split_large_chunks': False}):\n",
      "    ...     array[indexer]\n",
      "\n",
      "To avoid creating the large chunks, set the option\n",
      "    >>> with dask.config.set(**{'array.slicing.split_large_chunks': True}):\n",
      "    ...     array[indexer]\n",
      "  return self.array[key]\n",
      "/opt/conda/envs/ocean/lib/python3.11/site-packages/dask/array/core.py:4832: PerformanceWarning: Increasing number of chunks by factor of 18\n",
      "  result = blockwise(\n",
      "/opt/conda/envs/ocean/lib/python3.11/site-packages/dask/array/core.py:4832: PerformanceWarning: Increasing number of chunks by factor of 18\n",
      "  result = blockwise(\n",
      "/opt/conda/envs/ocean/lib/python3.11/site-packages/xarray/core/indexing.py:1593: PerformanceWarning: Slicing is producing a large chunk. To accept the large\n",
      "chunk and silence this warning, set the option\n",
      "    >>> with dask.config.set(**{'array.slicing.split_large_chunks': False}):\n",
      "    ...     array[indexer]\n",
      "\n",
      "To avoid creating the large chunks, set the option\n",
      "    >>> with dask.config.set(**{'array.slicing.split_large_chunks': True}):\n",
      "    ...     array[indexer]\n",
      "  return self.array[key]\n",
      "/opt/conda/envs/ocean/lib/python3.11/site-packages/dask/array/core.py:4832: PerformanceWarning: Increasing number of chunks by factor of 18\n",
      "  result = blockwise(\n",
      "/opt/conda/envs/ocean/lib/python3.11/site-packages/dask/array/core.py:4832: PerformanceWarning: Increasing number of chunks by factor of 18\n",
      "  result = blockwise(\n",
      "/opt/conda/envs/ocean/lib/python3.11/site-packages/xarray/core/indexing.py:1593: PerformanceWarning: Slicing is producing a large chunk. To accept the large\n",
      "chunk and silence this warning, set the option\n",
      "    >>> with dask.config.set(**{'array.slicing.split_large_chunks': False}):\n",
      "    ...     array[indexer]\n",
      "\n",
      "To avoid creating the large chunks, set the option\n",
      "    >>> with dask.config.set(**{'array.slicing.split_large_chunks': True}):\n",
      "    ...     array[indexer]\n",
      "  return self.array[key]\n",
      "/opt/conda/envs/ocean/lib/python3.11/site-packages/dask/array/core.py:4832: PerformanceWarning: Increasing number of chunks by factor of 18\n",
      "  result = blockwise(\n",
      "/opt/conda/envs/ocean/lib/python3.11/site-packages/dask/array/core.py:4832: PerformanceWarning: Increasing number of chunks by factor of 18\n",
      "  result = blockwise(\n",
      "/opt/conda/envs/ocean/lib/python3.11/site-packages/xarray/core/indexing.py:1593: PerformanceWarning: Slicing is producing a large chunk. To accept the large\n",
      "chunk and silence this warning, set the option\n",
      "    >>> with dask.config.set(**{'array.slicing.split_large_chunks': False}):\n",
      "    ...     array[indexer]\n",
      "\n",
      "To avoid creating the large chunks, set the option\n",
      "    >>> with dask.config.set(**{'array.slicing.split_large_chunks': True}):\n",
      "    ...     array[indexer]\n",
      "  return self.array[key]\n",
      "/opt/conda/envs/ocean/lib/python3.11/site-packages/dask/array/core.py:4832: PerformanceWarning: Increasing number of chunks by factor of 13\n",
      "  result = blockwise(\n",
      "/opt/conda/envs/ocean/lib/python3.11/site-packages/dask/array/core.py:4832: PerformanceWarning: Increasing number of chunks by factor of 13\n",
      "  result = blockwise(\n",
      "/opt/conda/envs/ocean/lib/python3.11/site-packages/xarray/core/indexing.py:1593: PerformanceWarning: Slicing is producing a large chunk. To accept the large\n",
      "chunk and silence this warning, set the option\n",
      "    >>> with dask.config.set(**{'array.slicing.split_large_chunks': False}):\n",
      "    ...     array[indexer]\n",
      "\n",
      "To avoid creating the large chunks, set the option\n",
      "    >>> with dask.config.set(**{'array.slicing.split_large_chunks': True}):\n",
      "    ...     array[indexer]\n",
      "  return self.array[key]\n",
      "/opt/conda/envs/ocean/lib/python3.11/site-packages/dask/array/core.py:4832: PerformanceWarning: Increasing number of chunks by factor of 13\n",
      "  result = blockwise(\n",
      "/opt/conda/envs/ocean/lib/python3.11/site-packages/dask/array/core.py:4832: PerformanceWarning: Increasing number of chunks by factor of 13\n",
      "  result = blockwise(\n"
     ]
    },
    {
     "ename": "",
     "evalue": "",
     "output_type": "error",
     "traceback": [
      "\u001b[1;31mThe Kernel crashed while executing code in the current cell or a previous cell. \n",
      "\u001b[1;31mPlease review the code in the cell(s) to identify a possible cause of the failure. \n",
      "\u001b[1;31mClick <a href='https://aka.ms/vscodeJupyterKernelCrash'>here</a> for more info. \n",
      "\u001b[1;31mView Jupyter <a href='command:jupyter.viewOutput'>log</a> for further details."
     ]
    }
   ],
   "source": [
    "DS2 = xr.open_mfdataset(files)"
   ]
  },
  {
   "cell_type": "code",
   "execution_count": null,
   "id": "02bc7375",
   "metadata": {},
   "outputs": [],
   "source": [
    "sst=xr.concat(DS.analysed_sst.sel(lat=29,lon=-15),DS2.analysed_sst.sel(lat=29,lon=-15), dim=\"time\")\n",
    "Out[4]: "
   ]
  },
  {
   "cell_type": "code",
   "execution_count": null,
   "id": "9cd2360f",
   "metadata": {},
   "outputs": [
    {
     "data": {
      "text/plain": [
       "[<matplotlib.lines.Line2D at 0x7506f6727c90>]"
      ]
     },
     "execution_count": 24,
     "metadata": {},
     "output_type": "execute_result"
    },
    {
     "data": {
      "image/png": "[encoded data removed]",
      "text/plain": [
       "<Figure size 1000x400 with 1 Axes>"
      ]
     },
     "metadata": {},
     "output_type": "display_data"
    }
   ],
   "source": [
    "DS.analysed_sst.sel(lat=29,lon=-15).plot()"
   ]
  },
  {
   "cell_type": "code",
   "execution_count": 19,
   "id": "61a2b504",
   "metadata": {},
   "outputs": [
    {
     "name": "stdout",
     "output_type": "stream",
     "text": [
      ">>>>> DailyDemarcación marina levantino-balearLEB\n"
     ]
    }
   ],
   "source": [
    "print('>>>>> Daily'+titulo+titulo_short)"
   ]
  },
  {
   "cell_type": "code",
   "execution_count": 21,
   "id": "571f7c1c",
   "metadata": {},
   "outputs": [],
   "source": [
    "## Calculate mean weigthtened\n",
    "weights = np.cos(np.deg2rad(sst.lat))\n",
    "weights = weights/weights.max()\n",
    "weights.name = \"weights\"\n",
    "sst_weighted = sst.weighted(weights)\n"
   ]
  },
  {
   "cell_type": "code",
   "execution_count": 22,
   "id": "f96b0bb1",
   "metadata": {},
   "outputs": [],
   "source": [
    "sst_wmean = sst_weighted.mean((\"lon\", \"lat\"),skipna=True).load()"
   ]
  },
  {
   "cell_type": "code",
   "execution_count": 23,
   "id": "22d9dedd-dbf1-4a6d-9b0b-0b0a86bce239",
   "metadata": {},
   "outputs": [],
   "source": [
    "## Create monthly climatology\n",
    "sst_clim = sst.sel(time=slice(yearC1,yearC2)).groupby('time.dayofyear').mean(dim='time').load();"
   ]
  },
  {
   "cell_type": "code",
   "execution_count": null,
   "id": "700dd9c4",
   "metadata": {},
   "outputs": [],
   "source": []
  },
  {
   "cell_type": "code",
   "execution_count": 24,
   "id": "2c665722",
   "metadata": {},
   "outputs": [
    {
     "name": "stderr",
     "output_type": "stream",
     "text": [
      "/opt/conda/envs/ocean/lib/python3.11/site-packages/xarray/core/indexing.py:1593: PerformanceWarning: Slicing with an out-of-order index is generating 44 times more chunks\n",
      "  return self.array[key]\n"
     ]
    }
   ],
   "source": [
    "## Create anomaly\n",
    "sst_anom = sst.groupby('time.dayofyear') - sst_clim"
   ]
  },
  {
   "cell_type": "code",
   "execution_count": 25,
   "id": "160a7d60",
   "metadata": {},
   "outputs": [],
   "source": [
    "## Calculate global mean anomaly\n",
    "weights = np.cos(np.deg2rad(sst.lat))\n",
    "weights = weights/weights.max()\n",
    "weights.name = \"weights\"\n",
    "sst_anom_weighted = sst_anom.weighted(weights)\n",
    "sst_anom_wmean = sst_anom_weighted.mean((\"lon\", \"lat\"),skipna=True).load()"
   ]
  },
  {
   "cell_type": "code",
   "execution_count": 69,
   "id": "fcb238db",
   "metadata": {},
   "outputs": [],
   "source": [
    "## Save in netcdf\n",
    "sst_wmean.to_netcdf(dataDir+'/sstd_mean_'+titulo_short+'.nc',mode='w')   \n",
    "sst_anom_wmean.to_netcdf(dataDir+'/sstd_anom_mean_'+titulo_short+'.nc',mode='w')"
   ]
  },
  {
   "cell_type": "code",
   "execution_count": 70,
   "id": "748bbf21",
   "metadata": {},
   "outputs": [],
   "source": [
    "if titulo_short=='GO' or titulo_short=='NAtl' or titulo_short=='LEB' or titulo_short=='CAN' or titulo_short=='NOR' or titulo_short=='SUD' or titulo_short=='ESA' or titulo_short=='IBICan':\n",
    "        sst_anom_LD=sst_anom[-1,:,:]\n",
    "        sst_anom_LD.to_netcdf(dataDir+'/sstLD_anom_'+titulo_short+'.nc',mode='w')"
   ]
  },
  {
   "cell_type": "markdown",
   "id": "e8ee496a",
   "metadata": {},
   "source": [
    "# Monthly analisis"
   ]
  },
  {
   "cell_type": "code",
   "execution_count": 26,
   "id": "e2e8f5dc-178e-4f40-9cd0-c369b86f86a7",
   "metadata": {},
   "outputs": [],
   "source": [
    "sst = sst.resample(time='ME').mean(dim='time',skipna=True).load()"
   ]
  },
  {
   "cell_type": "code",
   "execution_count": 27,
   "id": "6a3ed02d-e627-4d65-80cb-47e3855fe547",
   "metadata": {},
   "outputs": [],
   "source": [
    "## Calculate global mean weigthtened\n",
    "weights = np.cos(np.deg2rad(sst.lat))\n",
    "weights = weights/weights.max()\n",
    "weights.name = \"weights\"\n",
    "sst_weighted = sst.weighted(weights)\n",
    "sst_wmean = sst_weighted.mean((\"lon\", \"lat\"),skipna=True).load()\n",
    "    "
   ]
  },
  {
   "cell_type": "code",
   "execution_count": 28,
   "id": "1dfd2e62",
   "metadata": {},
   "outputs": [],
   "source": [
    "## Create monthly climatology\n",
    "sst_clim = sst.sel(time=slice(yearC1,yearC2)).groupby('time.month').mean(dim='time').load();"
   ]
  },
  {
   "cell_type": "code",
   "execution_count": 29,
   "id": "b62f5a7c",
   "metadata": {},
   "outputs": [
    {
     "name": "stdout",
     "output_type": "stream",
     "text": [
      "    > Compute anomaly mean\n"
     ]
    }
   ],
   "source": [
    "## Create anomaly\n",
    "print('    > Compute anomaly mean')\n",
    "sst_anom = sst.groupby('time.month') - sst_clim\n",
    "sst_anom.load();"
   ]
  },
  {
   "cell_type": "code",
   "execution_count": 30,
   "id": "8c30b787",
   "metadata": {},
   "outputs": [
    {
     "name": "stdout",
     "output_type": "stream",
     "text": [
      "    > Compute weigthtened mean\n"
     ]
    }
   ],
   "source": [
    "##Calculate global mean weigthtened\n",
    "print('    > Compute weigthtened mean')\n",
    "weights = np.cos(np.deg2rad(sst.lat))\n",
    "weights = weights/weights.max()\n",
    "weights.name = \"weights\"\n",
    "sst_anom_weighted = sst_anom.weighted(weights)\n",
    "sst_anom_wmean = sst_anom_weighted.mean((\"lon\", \"lat\"),skipna=True).load()\n",
    "sst_anom_wmean_rolling = sst_anom_wmean.rolling(time=12,center=True).mean()"
   ]
  },
  {
   "cell_type": "code",
   "execution_count": null,
   "id": "c8eb2bb1",
   "metadata": {},
   "outputs": [],
   "source": [
    "##Save in netcdf\n",
    "print('    > to netcdf')\n",
    "sst_anom.to_netcdf(dataDir+'/sstm_anom_'+titulo_short+'.nc',mode='w')\n",
    "sst_wmean.to_netcdf(dataDir+'/sstm_mean_'+titulo_short+'.nc',mode='w')\n",
    "sst_anom_wmean.to_netcdf(dataDir+'/sstm_anom_mean_'+titulo_short+'.nc',mode='w')"
   ]
  },
  {
   "cell_type": "code",
   "execution_count": null,
   "id": "d1e85fcf",
   "metadata": {},
   "outputs": [
    {
     "data": {
      "text/plain": [
       "28"
      ]
     },
     "execution_count": 21,
     "metadata": {},
     "output_type": "execute_result"
    }
   ],
   "source": [
    "\n",
    "monthrange(2011, 2)[1]"
   ]
  },
  {
   "cell_type": "code",
   "execution_count": null,
   "id": "f0dc4bac",
   "metadata": {},
   "outputs": [],
   "source": []
  }
 ],
 "metadata": {
  "kernelspec": {
   "display_name": "ocean",
   "language": "python",
   "name": "python3"
  },
  "language_info": {
   "codemirror_mode": {
    "name": "ipython",
    "version": 3
   },
   "file_extension": ".py",
   "mimetype": "text/x-python",
   "name": "python",
   "nbconvert_exporter": "python",
   "pygments_lexer": "ipython3",
   "version": "3.11.8"
  }
 },
 "nbformat": 4,
 "nbformat_minor": 5
}
