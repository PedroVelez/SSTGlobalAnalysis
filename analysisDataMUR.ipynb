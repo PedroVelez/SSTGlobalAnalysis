{
 "cells": [
  {
   "cell_type": "markdown",
   "id": "0037c146-943a-43df-b5d6-d1d0b5a8189a",
   "metadata": {},
   "source": [
    "# Global mean Sea Surface Temperatures"
   ]
  },
  {
   "cell_type": "code",
   "execution_count": 11,
   "id": "1df62f37-e43c-4f83-9107-5cebfdbacca9",
   "metadata": {},
   "outputs": [],
   "source": [
    "import numpy as np\n",
    "import xarray as xr\n",
    "import pandas as pd\n",
    "\n",
    "from calendar import monthrange\n",
    "\n",
    "from dask.distributed import Client\n",
    "from dask import delayed\n",
    "import dask\n",
    "\n",
    "import matplotlib.pyplot as plt\n",
    "from matplotlib.dates import DateFormatter\n",
    "\n",
    "import cartopy.crs as ccrs\n",
    "import cartopy\n",
    "import cartopy.feature as cfeature\n",
    "\n",
    "from shapely.geometry import Polygon, Point\n",
    "from shapely.ops import transform\n",
    "import pyproj\n",
    "\n",
    "from globales import *\n",
    "plt.rcParams['figure.figsize'] = (10, 4)"
   ]
  },
  {
   "cell_type": "markdown",
   "id": "87781c5c-5ee1-4068-9962-e9cef21a2291",
   "metadata": {},
   "source": [
    "## Load data"
   ]
  },
  {
   "cell_type": "code",
   "execution_count": 12,
   "id": "7a277a3d",
   "metadata": {},
   "outputs": [],
   "source": [
    "base_file = GlobalSU['DatPath'] + '/Satelite/MUR/NC/'"
   ]
  },
  {
   "cell_type": "code",
   "execution_count": 18,
   "id": "f8a40bfe",
   "metadata": {},
   "outputs": [],
   "source": [
    "year1= 2003\n",
    "year2= 2024\n",
    "files = []\n",
    "for iy in range(year1,year2+1):\n",
    "    for im in range(1,13):\n",
    "        for id in range(1,monthrange(iy,im)[1]+1):\n",
    "            files.append(base_file+\"%04d%02d%02d090000-JPL-L4_GHRSST-SSTfnd-MUR-GLOB-v02.0-fv04.1.nc\"%(iy,im,id))"
   ]
  },
  {
   "cell_type": "code",
   "execution_count": null,
   "id": "1d920754",
   "metadata": {},
   "outputs": [],
   "source": [
    "def drop_coords(ds):\n",
    "    ds = ds.get(['analysed_sst'])\n",
    "    return ds.reset_coords(drop=True)\n",
    "\n",
    "DS = xr.open_mfdataset(files,combine='nested', concat_dim=\"time\", parallel=True, \n",
    "                       combine_attrs= \"drop\", preprocess=drop_coords, \n",
    "                       autoclose = True, data_vars='minimal', coords=\"minimal\")"
   ]
  },
  {
   "cell_type": "code",
   "execution_count": 15,
   "id": "a908f543",
   "metadata": {},
   "outputs": [],
   "source": [
    "ts=DS.analysed_sst.sel(lat=20,lon=-25)"
   ]
  },
  {
   "cell_type": "code",
   "execution_count": null,
   "id": "566f74ef",
   "metadata": {},
   "outputs": [],
   "source": []
  }
 ],
 "metadata": {
  "kernelspec": {
   "display_name": "ocean",
   "language": "python",
   "name": "python3"
  },
  "language_info": {
   "codemirror_mode": {
    "name": "ipython",
    "version": 3
   },
   "file_extension": ".py",
   "mimetype": "text/x-python",
   "name": "python",
   "nbconvert_exporter": "python",
   "pygments_lexer": "ipython3",
   "version": "3.11.8"
  }
 },
 "nbformat": 4,
 "nbformat_minor": 5
}
