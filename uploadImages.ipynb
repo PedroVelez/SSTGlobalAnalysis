{
 "cells": [
  {
   "cell_type": "code",
   "execution_count": 6,
   "id": "1ab922ea-ccb3-44d1-a7b2-256a23468502",
   "metadata": {},
   "outputs": [],
   "source": [
    "import ftplib\n",
    "import datetime\n",
    "import os\n",
    "import glob"
   ]
  },
  {
   "cell_type": "code",
   "execution_count": 7,
   "id": "1aff5ca3-ab30-4e6f-a209-1f21fab10312",
   "metadata": {},
   "outputs": [],
   "source": [
    "if os.uname().nodename.lower().find('eemmmbp') != -1:\n",
    "    imagesDir = '/home/pvb/Dropbox/Oceanografia/Analisis/SSTGlobalAnalysis/images'\n",
    "elif os.uname().nodename.lower().find('rossby') != -1:\n",
    "    imagesDir = '/home/pvb/Analisis/SSTGlobalAnalysis/images'\n",
    "\n",
    "HOME=os.environ['HOME']   "
   ]
  },
  {
   "cell_type": "code",
   "execution_count": 8,
   "id": "8fe608f4-d315-497b-9cb9-c55f862c6f50",
   "metadata": {},
   "outputs": [],
   "source": [
    "f = open(HOME+'/.env', 'r')\n",
    "for line in f.readlines():\n",
    "    Name=line.strip().split('=')[0]\n",
    "    Content=line.strip().split('=')[-1]\n",
    "    if Name=='userFTP' or Name=='passwdFTP':\n",
    "        exec(Name + \"=\" + \"'\" + Content + \"'\")\n",
    "f.close()"
   ]
  },
  {
   "cell_type": "code",
   "execution_count": 9,
   "id": "1072ba53-eadd-4dc9-81a4-ebdaa035b0e9",
   "metadata": {},
   "outputs": [
    {
     "data": {
      "text/plain": [
       "'250 Directory successfully changed.'"
      ]
     },
     "execution_count": 9,
     "metadata": {},
     "output_type": "execute_result"
    }
   ],
   "source": [
    "os.chdir(imagesDir)\n",
    "session = ftplib.FTP('ftp.oceanografia.es',userFTP,passwdFTP)\n",
    "#session.getwelcome()\n",
    "session.cwd('/html/pedro/images/SST')"
   ]
  },
  {
   "cell_type": "code",
   "execution_count": 10,
   "id": "8968e6be-abeb-468f-bb34-9ffda2b4044d",
   "metadata": {},
   "outputs": [
    {
     "name": "stdout",
     "output_type": "stream",
     "text": [
      "/home/pvb/Analisis/SSTGlobalAnalysis/images/sstd_mean_SH.png\n",
      "/home/pvb/Analisis/SSTGlobalAnalysis/images/sstd_NH.png\n",
      "/home/pvb/Analisis/SSTGlobalAnalysis/images/sstd_anom_SH.png\n",
      "/home/pvb/Analisis/SSTGlobalAnalysis/images/sstd_mean_NH.png\n",
      "/home/pvb/Analisis/SSTGlobalAnalysis/images/sstd_anom_mean_GO.png\n",
      "/home/pvb/Analisis/SSTGlobalAnalysis/images/sstd_anom_GO.png\n",
      "/home/pvb/Analisis/SSTGlobalAnalysis/images/sstd_mean_GO.png\n",
      "/home/pvb/Analisis/SSTGlobalAnalysis/images/map_sstd_anom_GO.png\n",
      "/home/pvb/Analisis/SSTGlobalAnalysis/images/sstd_SH.png\n",
      "/home/pvb/Analisis/SSTGlobalAnalysis/images/sstd_anom_NH.png\n",
      "/home/pvb/Analisis/SSTGlobalAnalysis/images/sstd_GO.png\n",
      "/home/pvb/Analisis/SSTGlobalAnalysis/images/sstd_anom_mean_SH.png\n",
      "/home/pvb/Analisis/SSTGlobalAnalysis/images/sstd_anom_mean_NH.png\n"
     ]
    }
   ],
   "source": [
    "filenames = glob.glob(imagesDir+'/*.png')\n",
    "for filename in filenames:\n",
    "    print(filename)\n",
    "    session.storbinary('STOR '+ filename.split('/')[-1], open(filename, 'rb'))"
   ]
  },
  {
   "cell_type": "code",
   "execution_count": 11,
   "id": "812ca57c-be07-4729-9129-4f3fc4716b4a",
   "metadata": {},
   "outputs": [],
   "source": [
    "#filename =  'sstd_anom_GO.png'\n",
    "#session.storbinary('STOR sstd_anom_GO.png', open(imagesDir + '/' + filename, 'rb'))"
   ]
  },
  {
   "cell_type": "code",
   "execution_count": 12,
   "id": "638ae567-b0be-414d-b93d-271e266f640b",
   "metadata": {},
   "outputs": [
    {
     "data": {
      "text/plain": [
       "'221 Goodbye.'"
      ]
     },
     "execution_count": 12,
     "metadata": {},
     "output_type": "execute_result"
    }
   ],
   "source": [
    "session.quit()"
   ]
  },
  {
   "cell_type": "code",
   "execution_count": 53,
   "id": "bc955ee6-4b1a-493f-9037-eab97ea0dfc5",
   "metadata": {},
   "outputs": [
    {
     "name": "stdout",
     "output_type": "stream",
     "text": [
      "\n",
      "\n"
     ]
    }
   ],
   "source": [
    "f = open('/home/pvb/.env', 'r')\n",
    "for line in f:\n",
    "  print(line)\n",
    "f.close()"
   ]
  },
  {
   "cell_type": "code",
   "execution_count": 114,
   "id": "7e39a5c8-c41e-4757-bfe6-46d24b26a4d7",
   "metadata": {},
   "outputs": [],
   "source": [
    "f = open('/home/pvb/.env', 'r')\n",
    "for line in f.readlines(6):\n",
    "    Name=line.strip().split('=')[0]\n",
    "    Content=line.strip().split('=')[-1]\n",
    "    exec(Name + \"=\" + \"'\" + Content + \"'\")"
   ]
  },
  {
   "cell_type": "code",
   "execution_count": 135,
   "id": "8f3414cf-d38b-4e24-b552-6ab1b88389ce",
   "metadata": {},
   "outputs": [],
   "source": [
    "        \n"
   ]
  },
  {
   "cell_type": "code",
   "execution_count": 123,
   "id": "127f7a6d-a736-4cbf-9a4d-49728df5ea9c",
   "metadata": {},
   "outputs": [
    {
     "ename": "KeyError",
     "evalue": "0",
     "output_type": "error",
     "traceback": [
      "\u001b[0;31m---------------------------------------------------------------------------\u001b[0m",
      "\u001b[0;31mKeyError\u001b[0m                                  Traceback (most recent call last)",
      "File \u001b[0;32m/opt/conda/envs/ocean/lib/python3.11/site-packages/pandas/core/indexes/base.py:3802\u001b[0m, in \u001b[0;36mIndex.get_loc\u001b[0;34m(self, key, method, tolerance)\u001b[0m\n\u001b[1;32m   3801\u001b[0m \u001b[38;5;28;01mtry\u001b[39;00m:\n\u001b[0;32m-> 3802\u001b[0m     \u001b[38;5;28;01mreturn\u001b[39;00m \u001b[38;5;28;43mself\u001b[39;49m\u001b[38;5;241;43m.\u001b[39;49m\u001b[43m_engine\u001b[49m\u001b[38;5;241;43m.\u001b[39;49m\u001b[43mget_loc\u001b[49m\u001b[43m(\u001b[49m\u001b[43mcasted_key\u001b[49m\u001b[43m)\u001b[49m\n\u001b[1;32m   3803\u001b[0m \u001b[38;5;28;01mexcept\u001b[39;00m \u001b[38;5;167;01mKeyError\u001b[39;00m \u001b[38;5;28;01mas\u001b[39;00m err:\n",
      "File \u001b[0;32m/opt/conda/envs/ocean/lib/python3.11/site-packages/pandas/_libs/index.pyx:138\u001b[0m, in \u001b[0;36mpandas._libs.index.IndexEngine.get_loc\u001b[0;34m()\u001b[0m\n",
      "File \u001b[0;32m/opt/conda/envs/ocean/lib/python3.11/site-packages/pandas/_libs/index.pyx:165\u001b[0m, in \u001b[0;36mpandas._libs.index.IndexEngine.get_loc\u001b[0;34m()\u001b[0m\n",
      "File \u001b[0;32mpandas/_libs/hashtable_class_helper.pxi:5745\u001b[0m, in \u001b[0;36mpandas._libs.hashtable.PyObjectHashTable.get_item\u001b[0;34m()\u001b[0m\n",
      "File \u001b[0;32mpandas/_libs/hashtable_class_helper.pxi:5753\u001b[0m, in \u001b[0;36mpandas._libs.hashtable.PyObjectHashTable.get_item\u001b[0;34m()\u001b[0m\n",
      "\u001b[0;31mKeyError\u001b[0m: 0",
      "\nThe above exception was the direct cause of the following exception:\n",
      "\u001b[0;31mKeyError\u001b[0m                                  Traceback (most recent call last)",
      "Cell \u001b[0;32mIn[123], line 3\u001b[0m\n\u001b[1;32m      1\u001b[0m \u001b[38;5;28;01mimport\u001b[39;00m \u001b[38;5;21;01mpandas\u001b[39;00m \u001b[38;5;28;01mas\u001b[39;00m \u001b[38;5;21;01mpd\u001b[39;00m\n\u001b[1;32m      2\u001b[0m yourfile \u001b[38;5;241m=\u001b[39m pd\u001b[38;5;241m.\u001b[39mread_csv(\u001b[38;5;124m'\u001b[39m\u001b[38;5;124m/home/pvb/.env\u001b[39m\u001b[38;5;124m'\u001b[39m)\n\u001b[0;32m----> 3\u001b[0m \u001b[43myourfile\u001b[49m\u001b[43m[\u001b[49m\u001b[38;5;241;43m0\u001b[39;49m\u001b[43m]\u001b[49m\n",
      "File \u001b[0;32m/opt/conda/envs/ocean/lib/python3.11/site-packages/pandas/core/frame.py:3807\u001b[0m, in \u001b[0;36mDataFrame.__getitem__\u001b[0;34m(self, key)\u001b[0m\n\u001b[1;32m   3805\u001b[0m \u001b[38;5;28;01mif\u001b[39;00m \u001b[38;5;28mself\u001b[39m\u001b[38;5;241m.\u001b[39mcolumns\u001b[38;5;241m.\u001b[39mnlevels \u001b[38;5;241m>\u001b[39m \u001b[38;5;241m1\u001b[39m:\n\u001b[1;32m   3806\u001b[0m     \u001b[38;5;28;01mreturn\u001b[39;00m \u001b[38;5;28mself\u001b[39m\u001b[38;5;241m.\u001b[39m_getitem_multilevel(key)\n\u001b[0;32m-> 3807\u001b[0m indexer \u001b[38;5;241m=\u001b[39m \u001b[38;5;28;43mself\u001b[39;49m\u001b[38;5;241;43m.\u001b[39;49m\u001b[43mcolumns\u001b[49m\u001b[38;5;241;43m.\u001b[39;49m\u001b[43mget_loc\u001b[49m\u001b[43m(\u001b[49m\u001b[43mkey\u001b[49m\u001b[43m)\u001b[49m\n\u001b[1;32m   3808\u001b[0m \u001b[38;5;28;01mif\u001b[39;00m is_integer(indexer):\n\u001b[1;32m   3809\u001b[0m     indexer \u001b[38;5;241m=\u001b[39m [indexer]\n",
      "File \u001b[0;32m/opt/conda/envs/ocean/lib/python3.11/site-packages/pandas/core/indexes/base.py:3804\u001b[0m, in \u001b[0;36mIndex.get_loc\u001b[0;34m(self, key, method, tolerance)\u001b[0m\n\u001b[1;32m   3802\u001b[0m     \u001b[38;5;28;01mreturn\u001b[39;00m \u001b[38;5;28mself\u001b[39m\u001b[38;5;241m.\u001b[39m_engine\u001b[38;5;241m.\u001b[39mget_loc(casted_key)\n\u001b[1;32m   3803\u001b[0m \u001b[38;5;28;01mexcept\u001b[39;00m \u001b[38;5;167;01mKeyError\u001b[39;00m \u001b[38;5;28;01mas\u001b[39;00m err:\n\u001b[0;32m-> 3804\u001b[0m     \u001b[38;5;28;01mraise\u001b[39;00m \u001b[38;5;167;01mKeyError\u001b[39;00m(key) \u001b[38;5;28;01mfrom\u001b[39;00m \u001b[38;5;21;01merr\u001b[39;00m\n\u001b[1;32m   3805\u001b[0m \u001b[38;5;28;01mexcept\u001b[39;00m \u001b[38;5;167;01mTypeError\u001b[39;00m:\n\u001b[1;32m   3806\u001b[0m     \u001b[38;5;66;03m# If we have a listlike key, _check_indexing_error will raise\u001b[39;00m\n\u001b[1;32m   3807\u001b[0m     \u001b[38;5;66;03m#  InvalidIndexError. Otherwise we fall through and re-raise\u001b[39;00m\n\u001b[1;32m   3808\u001b[0m     \u001b[38;5;66;03m#  the TypeError.\u001b[39;00m\n\u001b[1;32m   3809\u001b[0m     \u001b[38;5;28mself\u001b[39m\u001b[38;5;241m.\u001b[39m_check_indexing_error(key)\n",
      "\u001b[0;31mKeyError\u001b[0m: 0"
     ]
    }
   ],
   "source": [
    "import pandas as pd\n",
    "yourfile = pd.read_csv('/home/pvb/.env')\n",
    "yourfile[0]"
   ]
  },
  {
   "cell_type": "code",
   "execution_count": 44,
   "id": "f7cc2108-33eb-4c04-a7c4-204ac46c1da3",
   "metadata": {},
   "outputs": [
    {
     "data": {
      "text/plain": [
       "0"
      ]
     },
     "execution_count": 44,
     "metadata": {},
     "output_type": "execute_result"
    }
   ],
   "source": [
    "bashCommand = '#!/bin/zsh;source /home/pvb/.env'\n",
    "os.system(bashCommand)"
   ]
  },
  {
   "cell_type": "code",
   "execution_count": 45,
   "id": "2668e9d1-4346-4a88-8974-91aae14e4a12",
   "metadata": {},
   "outputs": [
    {
     "data": {
      "text/plain": [
       "environ{'SHELL': '/bin/zsh',\n",
       "        'CONDA_EXE': '/opt/conda/bin/conda',\n",
       "        '_CE_M': '',\n",
       "        'JUPYTERHUB_SERVICE_URL': 'http://127.0.0.1:47763/user/pvb/',\n",
       "        'JUPYTERHUB_API_TOKEN': '7462d7e5f0fe4b7687f806fbb659c93f',\n",
       "        'JUPYTERHUB_BASE_URL': '/',\n",
       "        'XML_CATALOG_FILES': 'file:///opt/conda/envs/ocean/etc/xml/catalog file:///etc/xml/catalog',\n",
       "        'PWD': '/home/pvb/Analisis/SSTGlobalAnalysis',\n",
       "        'GSETTINGS_SCHEMA_DIR': '/opt/conda/envs/ocean/share/glib-2.0/schemas',\n",
       "        'CONDA_PREFIX': '/opt/conda/envs/ocean',\n",
       "        'JPY_SESSION_NAME': '/home/pvb/Analisis/SSTGlobalAnalysis/Prueba_UploadData.ipynb',\n",
       "        'GSETTINGS_SCHEMA_DIR_CONDA_BACKUP': '',\n",
       "        'JUPYTERHUB_SERVER_NAME': '',\n",
       "        'HOME': '/home/pvb',\n",
       "        'LANG': 'en_US.UTF-8',\n",
       "        'JPY_API_TOKEN': '7462d7e5f0fe4b7687f806fbb659c93f',\n",
       "        'CONDA_PROMPT_MODIFIER': '(ocean) ',\n",
       "        'JUPYTERHUB_SERVICE_PREFIX': '/user/pvb/',\n",
       "        'PYDEVD_USE_FRAME_EVAL': 'NO',\n",
       "        'JUPYTERHUB_OAUTH_CALLBACK_URL': '/user/pvb/oauth_callback',\n",
       "        'JUPYTERHUB_SINGLEUSER_APP': 'jupyter_server.serverapp.ServerApp',\n",
       "        'JUPYTERHUB_OAUTH_CLIENT_ALLOWED_SCOPES': '[]',\n",
       "        'JPY_PARENT_PID': '60325',\n",
       "        '_CE_CONDA': '',\n",
       "        'USER': 'pvb',\n",
       "        'CONDA_SHLVL': '1',\n",
       "        'JUPYTERHUB_OAUTH_ACCESS_SCOPES': '[\"access:servers!server=pvb/\", \"access:servers!user=pvb\"]',\n",
       "        'SHLVL': '0',\n",
       "        'JUPYTERHUB_API_URL': 'http://127.0.0.1:8081/hub/api',\n",
       "        'JUPYTERHUB_CLIENT_ID': 'jupyterhub-user-pvb',\n",
       "        'JUPYTERHUB_OAUTH_SCOPES': '[\"access:servers!server=pvb/\", \"access:servers!user=pvb\"]',\n",
       "        'PROJ_DATA': '/opt/conda/envs/ocean/share/proj',\n",
       "        'JUPYTERHUB_HOST': '',\n",
       "        'CONDA_PYTHON_EXE': '/opt/conda/bin/python',\n",
       "        'CONDA_DEFAULT_ENV': 'ocean',\n",
       "        'LC_ALL': 'en_US.UTF-8',\n",
       "        'PATH': '/opt/conda/envs/ocean/bin:/opt/conda/condabin:/opt/conda/bin:/opt/conda/condabin:/usr/local/sbin:/usr/local/bin:/usr/sbin:/usr/bin:/sbin:/bin:/usr/games:/usr/local/games:/snap/bin',\n",
       "        'JUPYTERHUB_USER': 'pvb',\n",
       "        'JUPYTERHUB_ACTIVITY_URL': 'http://127.0.0.1:8081/hub/api/users/pvb/activity',\n",
       "        'PROJ_NETWORK': 'ON',\n",
       "        'TERM': 'xterm-color',\n",
       "        'CLICOLOR': '1',\n",
       "        'FORCE_COLOR': '1',\n",
       "        'CLICOLOR_FORCE': '1',\n",
       "        'PAGER': 'cat',\n",
       "        'GIT_PAGER': 'cat',\n",
       "        'MPLBACKEND': 'module://matplotlib_inline.backend_inline'}"
      ]
     },
     "execution_count": 45,
     "metadata": {},
     "output_type": "execute_result"
    }
   ],
   "source": [
    "os.environ"
   ]
  },
  {
   "cell_type": "code",
   "execution_count": 144,
   "id": "e27fa37d-4b67-4336-87e7-ba69368fdc9e",
   "metadata": {},
   "outputs": [
    {
     "data": {
      "text/plain": [
       "'/home/pvb'"
      ]
     },
     "execution_count": 144,
     "metadata": {},
     "output_type": "execute_result"
    }
   ],
   "source": [
    "HOME=os.environ['HOME']"
   ]
  },
  {
   "cell_type": "code",
   "execution_count": null,
   "id": "9c464115-277f-4cb4-b9f0-1f273ac2e838",
   "metadata": {},
   "outputs": [],
   "source": []
  }
 ],
 "metadata": {
  "kernelspec": {
   "display_name": "Python [conda env:ocean]",
   "language": "python",
   "name": "conda-env-ocean-py"
  },
  "language_info": {
   "codemirror_mode": {
    "name": "ipython",
    "version": 3
   },
   "file_extension": ".py",
   "mimetype": "text/x-python",
   "name": "python",
   "nbconvert_exporter": "python",
   "pygments_lexer": "ipython3",
   "version": "3.11.0"
  }
 },
 "nbformat": 4,
 "nbformat_minor": 5
}
