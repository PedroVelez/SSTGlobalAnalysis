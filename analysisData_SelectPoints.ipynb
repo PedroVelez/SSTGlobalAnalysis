{
 "cells": [
  {
   "cell_type": "markdown",
   "id": "0037c146-943a-43df-b5d6-d1d0b5a8189a",
   "metadata": {},
   "source": [
    "# Global mean Sea Surface Temperatures"
   ]
  },
  {
   "cell_type": "code",
   "execution_count": 1,
   "id": "1df62f37-e43c-4f83-9107-5cebfdbacca9",
   "metadata": {},
   "outputs": [],
   "source": [
    "import matplotlib.pyplot as plt\n",
    "import numpy as np\n",
    "import xarray as xr\n",
    "import pandas as pd\n",
    "from matplotlib.dates import DateFormatter\n",
    "\n",
    "from dask.distributed import Client\n",
    "from dask import delayed\n",
    "import dask\n",
    "\n",
    "import cartopy.crs as ccrs\n",
    "import cartopy\n",
    "import cartopy.feature as cfeature\n",
    "\n",
    "from shapely.geometry import Polygon, Point\n",
    "from shapely.ops import transform\n",
    "import pyproj\n",
    "\n",
    "plt.rcParams['figure.figsize'] = (10, 4)"
   ]
  },
  {
   "cell_type": "code",
   "execution_count": 3,
   "id": "b9dabd98",
   "metadata": {},
   "outputs": [],
   "source": [
    "from FuncionesArea import seleccionaArea"
   ]
  },
  {
   "cell_type": "code",
   "execution_count": 2,
   "id": "075c2b02",
   "metadata": {},
   "outputs": [
    {
     "name": "stdout",
     "output_type": "stream",
     "text": [
      ">>>>>---------------------------------------------------------------------------<<<<<\n",
      "    > Linux rossby 6.8.0-59-generic #61-Ubuntu SMP PREEMPT_DYNAMIC Fri Apr 11 23\n",
      "    >\n",
      "    > home    - /home/pvb\n",
      "    > ProPath - /home/pvb/Proyectos\n",
      "    > AnaPath - /home/pvb/Analisis\n",
      "    > DatPath - /data/pvb\n",
      "    > ArgoDta - /data/pvb/Argo\n",
      ">>>>>---------------------------------------------------------------------------<<<<<\n"
     ]
    }
   ],
   "source": [
    "from globales import *"
   ]
  },
  {
   "cell_type": "code",
   "execution_count": 4,
   "id": "16fa8168-9a5e-450d-ac67-7e24fe1fad27",
   "metadata": {},
   "outputs": [],
   "source": [
    "year1= 1982\n",
    "year2= 2025"
   ]
  },
  {
   "cell_type": "code",
   "execution_count": 5,
   "id": "95fc918c-c177-4c1c-bee5-efd9e7fe07fd",
   "metadata": {},
   "outputs": [],
   "source": [
    "# Settings compute de climatoloy\n",
    "yearC1='1982'\n",
    "yearC2='1992'"
   ]
  },
  {
   "cell_type": "markdown",
   "id": "769bb64d",
   "metadata": {},
   "source": [
    "# Inicio"
   ]
  },
  {
   "cell_type": "markdown",
   "id": "87781c5c-5ee1-4068-9962-e9cef21a2291",
   "metadata": {},
   "source": [
    "## Load data"
   ]
  },
  {
   "cell_type": "code",
   "execution_count": 6,
   "id": "b7a97b46",
   "metadata": {},
   "outputs": [],
   "source": [
    "base_file = GlobalSU['DatPath'] + '/Satelite/noaa.oisst.v2.highres/NC/sst.day.mean'"
   ]
  },
  {
   "cell_type": "code",
   "execution_count": 7,
   "id": "609a9060",
   "metadata": {},
   "outputs": [],
   "source": [
    "files = [f'{base_file}.{year}.nc' for year in range(year1, year2+1)]"
   ]
  },
  {
   "cell_type": "code",
   "execution_count": 8,
   "id": "1b51ef86",
   "metadata": {},
   "outputs": [],
   "source": [
    "DS = xr.open_mfdataset(files,parallel=True, \n",
    "                       combine_attrs= \"drop\",\n",
    "                       autoclose = True, data_vars='minimal', coords=\"minimal\")"
   ]
  },
  {
   "cell_type": "code",
   "execution_count": null,
   "id": "6a9e703f",
   "metadata": {},
   "outputs": [],
   "source": [
    "Xr=[-9.7299+360,  -15.2693+360,  -16.0000+360, -17.7162+360];\n",
    "Yr=[32.1623,   24.8980,   29.7545,  18.9396];\n",
    "Tr=['UP1','UP2','OC','DW']"
   ]
  },
  {
   "cell_type": "code",
   "execution_count": 11,
   "id": "cd5eb142",
   "metadata": {},
   "outputs": [
    {
     "name": "stdout",
     "output_type": "stream",
     "text": [
      "0\n",
      "1\n",
      "2\n",
      "3\n"
     ]
    }
   ],
   "source": [
    "for i1 in range(0,4):\n",
    "    print(i1)\n",
    "    ## Daily analisis\n",
    "    sstd=DS.sst.sel(lat=Yr[i1],lon=Xr[i1],method='nearest').load()\n",
    "    #sstd_clim = sstd.sel(time=slice(yearC1,yearC2)).groupby('time.dayofyear').mean(dim='time').load();\n",
    "    #sstd_anom = sstd.groupby('time.dayofyear') - sstd_clim\n",
    "\n",
    "    ## Monthly analisis\n",
    "    sstm = sstd.resample(time='ME').mean(dim='time',skipna=True).load()\n",
    "    #sstm_clim = sstm.sel(time=slice(yearC1,yearC2)).groupby('time.month').mean(dim='time').load();\n",
    "    #sstm_anom = sstm.groupby('time.month') - sstm_clim\n",
    "\n",
    "    sstd.to_netcdf(\"./data2/sstd.{0:3s}.nc\".format(Tr[i1]))\n",
    "    #sstd_anom.to_netcdf(\"./data2/sstd_anom.{0:02d}.nc\".format(i1))\n",
    "    \n",
    "\n",
    "    sstm.to_netcdf(\"./data2/sstm.{0:3s}.nc\".format(Tr[i1]))\n",
    "    #sstm_anom.to_netcdf(\"./data2/sstm_anom.{0:02d}.nc\".format(i1))\n",
    "    \n"
   ]
  },
  {
   "cell_type": "code",
   "execution_count": 19,
   "id": "6ac52112",
   "metadata": {},
   "outputs": [],
   "source": [
    "z=DS.sst[-1,:,:].sel(lon=slice(340,359),lat=slice(20,40))"
   ]
  },
  {
   "cell_type": "code",
   "execution_count": null,
   "id": "403c3290",
   "metadata": {},
   "outputs": [
    {
     "data": {
      "image/png": "[encoded data removed]",
      "text/plain": [
       "<Figure size 1000x400 with 1 Axes>"
      ]
     },
     "metadata": {},
     "output_type": "display_data"
    },
    {
     "ename": "",
     "evalue": "",
     "output_type": "error",
     "traceback": [
      "\u001b[1;31mThe Kernel crashed while executing code in the current cell or a previous cell. \n",
      "\u001b[1;31mPlease review the code in the cell(s) to identify a possible cause of the failure. \n",
      "\u001b[1;31mClick <a href='https://aka.ms/vscodeJupyterKernelCrash'>here</a> for more info. \n",
      "\u001b[1;31mView Jupyter <a href='command:jupyter.viewOutput'>log</a> for further details."
     ]
    }
   ],
   "source": [
    "fig,ax=plt.subplots()\n",
    "ax.contourf(z.lon,z.lat,z)\n",
    "\n",
    "for i1 in range(0,4):\n",
    "    ax.text(Xr[i1],Yr[i1],\"{0:3s}\".format(Tr[i1]))"
   ]
  },
  {
   "cell_type": "code",
   "execution_count": null,
   "id": "5a8d5339",
   "metadata": {},
   "outputs": [],
   "source": []
  }
 ],
 "metadata": {
  "kernelspec": {
   "display_name": "ocean",
   "language": "python",
   "name": "python3"
  },
  "language_info": {
   "codemirror_mode": {
    "name": "ipython",
    "version": 3
   },
   "file_extension": ".py",
   "mimetype": "text/x-python",
   "name": "python",
   "nbconvert_exporter": "python",
   "pygments_lexer": "ipython3",
   "version": "3.11.8"
  }
 },
 "nbformat": 4,
 "nbformat_minor": 5
}
