{
 "cells": [
  {
   "cell_type": "markdown",
   "id": "0037c146-943a-43df-b5d6-d1d0b5a8189a",
   "metadata": {},
   "source": [
    "# Global mean Sea Surface Temperatures\n",
    "\n",
    "**sst** - SST monthly mean (time: 492,lat: 720,lon: 1440)\n",
    "\n",
    "**sst_Wmean** - SST weighted global mean (time)\n",
    "\n",
    "**sst_Clim** - monthly climatology (month: 12lat: 720lon: 1440)\n",
    "\n",
    "**sst_anom** - anomaly from monthly Climatology (time: 492, lat: 720,lon: 1440)\n",
    "\n",
    "**sst_anom_Wmean** - SST anomlay weighted global mean (time: 492)\n"
   ]
  },
  {
   "cell_type": "code",
   "execution_count": 1,
   "id": "1df62f37-e43c-4f83-9107-5cebfdbacca9",
   "metadata": {},
   "outputs": [],
   "source": [
    "import matplotlib.pyplot as plt\n",
    "import numpy as np\n",
    "import xarray as xr\n",
    "import cartopy\n",
    "import cartopy.crs as ccrs\n",
    "plt.rcParams['figure.figsize'] = (10, 4)"
   ]
  },
  {
   "cell_type": "markdown",
   "id": "4e010352-6479-443b-8466-06aac184f261",
   "metadata": {},
   "source": [
    "#### Settings"
   ]
  },
  {
   "cell_type": "code",
   "execution_count": 2,
   "id": "95fc918c-c177-4c1c-bee5-efd9e7fe07fd",
   "metadata": {},
   "outputs": [],
   "source": [
    "#To compute de climatoloy\n",
    "year1='1982'\n",
    "year2='1992'\n",
    "year2='1984'"
   ]
  },
  {
   "cell_type": "markdown",
   "id": "87781c5c-5ee1-4068-9962-e9cef21a2291",
   "metadata": {},
   "source": [
    "## Load data"
   ]
  },
  {
   "cell_type": "code",
   "execution_count": 3,
   "id": "c48e104c-74f0-42da-b07f-59e2c92d6adb",
   "metadata": {},
   "outputs": [],
   "source": [
    "base_file = '/Users/pvb/Dropbox/Oceanografia/Data/Satelite/noaa.oisst.v2.highres/NC/sst.day.mean'\n",
    "#base_file = '/data/shareddata/Satelite/noaa.oisst.v2.highres/NC/sst.day.mean'\n",
    "files = [f'{base_file}.{year}.nc' for year in range(1982, 1985)]\n",
    "DS = xr.open_mfdataset(files)"
   ]
  },
  {
   "cell_type": "code",
   "execution_count": 4,
   "id": "e8c8349e-ce3c-4dee-8df4-a0b53d309d62",
   "metadata": {},
   "outputs": [
    {
     "data": {
      "text/html": [
       "<div><svg style=\"position: absolute; width: 0; height: 0; overflow: hidden\">\n",
       "<defs>\n",
       "<symbol id=\"icon-database\" viewBox=\"0 0 32 32\">\n",
       "<path d=\"M16 0c-8.837 0-16 2.239-16 5v4c0 2.761 7.163 5 16 5s16-2.239 16-5v-4c0-2.761-7.163-5-16-5z\"></path>\n",
       "<path d=\"M16 17c-8.837 0-16-2.239-16-5v6c0 2.761 7.163 5 16 5s16-2.239 16-5v-6c0 2.761-7.163 5-16 5z\"></path>\n",
       "<path d=\"M16 26c-8.837 0-16-2.239-16-5v6c0 2.761 7.163 5 16 5s16-2.239 16-5v-6c0 2.761-7.163 5-16 5z\"></path>\n",
       "</symbol>\n",
       "<symbol id=\"icon-file-text2\" viewBox=\"0 0 32 32\">\n",
       "<path d=\"M28.681 7.159c-0.694-0.947-1.662-2.053-2.724-3.116s-2.169-2.030-3.116-2.724c-1.612-1.182-2.393-1.319-2.841-1.319h-15.5c-1.378 0-2.5 1.121-2.5 2.5v27c0 1.378 1.122 2.5 2.5 2.5h23c1.378 0 2.5-1.122 2.5-2.5v-19.5c0-0.448-0.137-1.23-1.319-2.841zM24.543 5.457c0.959 0.959 1.712 1.825 2.268 2.543h-4.811v-4.811c0.718 0.556 1.584 1.309 2.543 2.268zM28 29.5c0 0.271-0.229 0.5-0.5 0.5h-23c-0.271 0-0.5-0.229-0.5-0.5v-27c0-0.271 0.229-0.5 0.5-0.5 0 0 15.499-0 15.5 0v7c0 0.552 0.448 1 1 1h7v19.5z\"></path>\n",
       "<path d=\"M23 26h-14c-0.552 0-1-0.448-1-1s0.448-1 1-1h14c0.552 0 1 0.448 1 1s-0.448 1-1 1z\"></path>\n",
       "<path d=\"M23 22h-14c-0.552 0-1-0.448-1-1s0.448-1 1-1h14c0.552 0 1 0.448 1 1s-0.448 1-1 1z\"></path>\n",
       "<path d=\"M23 18h-14c-0.552 0-1-0.448-1-1s0.448-1 1-1h14c0.552 0 1 0.448 1 1s-0.448 1-1 1z\"></path>\n",
       "</symbol>\n",
       "</defs>\n",
       "</svg>\n",
       "<style>/* CSS stylesheet for displaying xarray objects in jupyterlab.\n",
       " *\n",
       " */\n",
       "\n",
       ":root {\n",
       "  --xr-font-color0: var(--jp-content-font-color0, rgba(0, 0, 0, 1));\n",
       "  --xr-font-color2: var(--jp-content-font-color2, rgba(0, 0, 0, 0.54));\n",
       "  --xr-font-color3: var(--jp-content-font-color3, rgba(0, 0, 0, 0.38));\n",
       "  --xr-border-color: var(--jp-border-color2, #e0e0e0);\n",
       "  --xr-disabled-color: var(--jp-layout-color3, #bdbdbd);\n",
       "  --xr-background-color: var(--jp-layout-color0, white);\n",
       "  --xr-background-color-row-even: var(--jp-layout-color1, white);\n",
       "  --xr-background-color-row-odd: var(--jp-layout-color2, #eeeeee);\n",
       "}\n",
       "\n",
       "html[theme=dark],\n",
       "body[data-theme=dark],\n",
       "body.vscode-dark {\n",
       "  --xr-font-color0: rgba(255, 255, 255, 1);\n",
       "  --xr-font-color2: rgba(255, 255, 255, 0.54);\n",
       "  --xr-font-color3: rgba(255, 255, 255, 0.38);\n",
       "  --xr-border-color: #1F1F1F;\n",
       "  --xr-disabled-color: #515151;\n",
       "  --xr-background-color: #111111;\n",
       "  --xr-background-color-row-even: #111111;\n",
       "  --xr-background-color-row-odd: #313131;\n",
       "}\n",
       "\n",
       ".xr-wrap {\n",
       "  display: block !important;\n",
       "  min-width: 300px;\n",
       "  max-width: 700px;\n",
       "}\n",
       "\n",
       ".xr-text-repr-fallback {\n",
       "  /* fallback to plain text repr when CSS is not injected (untrusted notebook) */\n",
       "  display: none;\n",
       "}\n",
       "\n",
       ".xr-header {\n",
       "  padding-top: 6px;\n",
       "  padding-bottom: 6px;\n",
       "  margin-bottom: 4px;\n",
       "  border-bottom: solid 1px var(--xr-border-color);\n",
       "}\n",
       "\n",
       ".xr-header > div,\n",
       ".xr-header > ul {\n",
       "  display: inline;\n",
       "  margin-top: 0;\n",
       "  margin-bottom: 0;\n",
       "}\n",
       "\n",
       ".xr-obj-type,\n",
       ".xr-array-name {\n",
       "  margin-left: 2px;\n",
       "  margin-right: 10px;\n",
       "}\n",
       "\n",
       ".xr-obj-type {\n",
       "  color: var(--xr-font-color2);\n",
       "}\n",
       "\n",
       ".xr-sections {\n",
       "  padding-left: 0 !important;\n",
       "  display: grid;\n",
       "  grid-template-columns: 150px auto auto 1fr 20px 20px;\n",
       "}\n",
       "\n",
       ".xr-section-item {\n",
       "  display: contents;\n",
       "}\n",
       "\n",
       ".xr-section-item input {\n",
       "  display: none;\n",
       "}\n",
       "\n",
       ".xr-section-item input + label {\n",
       "  color: var(--xr-disabled-color);\n",
       "}\n",
       "\n",
       ".xr-section-item input:enabled + label {\n",
       "  cursor: pointer;\n",
       "  color: var(--xr-font-color2);\n",
       "}\n",
       "\n",
       ".xr-section-item input:enabled + label:hover {\n",
       "  color: var(--xr-font-color0);\n",
       "}\n",
       "\n",
       ".xr-section-summary {\n",
       "  grid-column: 1;\n",
       "  color: var(--xr-font-color2);\n",
       "  font-weight: 500;\n",
       "}\n",
       "\n",
       ".xr-section-summary > span {\n",
       "  display: inline-block;\n",
       "  padding-left: 0.5em;\n",
       "}\n",
       "\n",
       ".xr-section-summary-in:disabled + label {\n",
       "  color: var(--xr-font-color2);\n",
       "}\n",
       "\n",
       ".xr-section-summary-in + label:before {\n",
       "  display: inline-block;\n",
       "  content: '►';\n",
       "  font-size: 11px;\n",
       "  width: 15px;\n",
       "  text-align: center;\n",
       "}\n",
       "\n",
       ".xr-section-summary-in:disabled + label:before {\n",
       "  color: var(--xr-disabled-color);\n",
       "}\n",
       "\n",
       ".xr-section-summary-in:checked + label:before {\n",
       "  content: '▼';\n",
       "}\n",
       "\n",
       ".xr-section-summary-in:checked + label > span {\n",
       "  display: none;\n",
       "}\n",
       "\n",
       ".xr-section-summary,\n",
       ".xr-section-inline-details {\n",
       "  padding-top: 4px;\n",
       "  padding-bottom: 4px;\n",
       "}\n",
       "\n",
       ".xr-section-inline-details {\n",
       "  grid-column: 2 / -1;\n",
       "}\n",
       "\n",
       ".xr-section-details {\n",
       "  display: none;\n",
       "  grid-column: 1 / -1;\n",
       "  margin-bottom: 5px;\n",
       "}\n",
       "\n",
       ".xr-section-summary-in:checked ~ .xr-section-details {\n",
       "  display: contents;\n",
       "}\n",
       "\n",
       ".xr-array-wrap {\n",
       "  grid-column: 1 / -1;\n",
       "  display: grid;\n",
       "  grid-template-columns: 20px auto;\n",
       "}\n",
       "\n",
       ".xr-array-wrap > label {\n",
       "  grid-column: 1;\n",
       "  vertical-align: top;\n",
       "}\n",
       "\n",
       ".xr-preview {\n",
       "  color: var(--xr-font-color3);\n",
       "}\n",
       "\n",
       ".xr-array-preview,\n",
       ".xr-array-data {\n",
       "  padding: 0 5px !important;\n",
       "  grid-column: 2;\n",
       "}\n",
       "\n",
       ".xr-array-data,\n",
       ".xr-array-in:checked ~ .xr-array-preview {\n",
       "  display: none;\n",
       "}\n",
       "\n",
       ".xr-array-in:checked ~ .xr-array-data,\n",
       ".xr-array-preview {\n",
       "  display: inline-block;\n",
       "}\n",
       "\n",
       ".xr-dim-list {\n",
       "  display: inline-block !important;\n",
       "  list-style: none;\n",
       "  padding: 0 !important;\n",
       "  margin: 0;\n",
       "}\n",
       "\n",
       ".xr-dim-list li {\n",
       "  display: inline-block;\n",
       "  padding: 0;\n",
       "  margin: 0;\n",
       "}\n",
       "\n",
       ".xr-dim-list:before {\n",
       "  content: '(';\n",
       "}\n",
       "\n",
       ".xr-dim-list:after {\n",
       "  content: ')';\n",
       "}\n",
       "\n",
       ".xr-dim-list li:not(:last-child):after {\n",
       "  content: ',';\n",
       "  padding-right: 5px;\n",
       "}\n",
       "\n",
       ".xr-has-index {\n",
       "  font-weight: bold;\n",
       "}\n",
       "\n",
       ".xr-var-list,\n",
       ".xr-var-item {\n",
       "  display: contents;\n",
       "}\n",
       "\n",
       ".xr-var-item > div,\n",
       ".xr-var-item label,\n",
       ".xr-var-item > .xr-var-name span {\n",
       "  background-color: var(--xr-background-color-row-even);\n",
       "  margin-bottom: 0;\n",
       "}\n",
       "\n",
       ".xr-var-item > .xr-var-name:hover span {\n",
       "  padding-right: 5px;\n",
       "}\n",
       "\n",
       ".xr-var-list > li:nth-child(odd) > div,\n",
       ".xr-var-list > li:nth-child(odd) > label,\n",
       ".xr-var-list > li:nth-child(odd) > .xr-var-name span {\n",
       "  background-color: var(--xr-background-color-row-odd);\n",
       "}\n",
       "\n",
       ".xr-var-name {\n",
       "  grid-column: 1;\n",
       "}\n",
       "\n",
       ".xr-var-dims {\n",
       "  grid-column: 2;\n",
       "}\n",
       "\n",
       ".xr-var-dtype {\n",
       "  grid-column: 3;\n",
       "  text-align: right;\n",
       "  color: var(--xr-font-color2);\n",
       "}\n",
       "\n",
       ".xr-var-preview {\n",
       "  grid-column: 4;\n",
       "}\n",
       "\n",
       ".xr-index-preview {\n",
       "  grid-column: 2 / 5;\n",
       "  color: var(--xr-font-color2);\n",
       "}\n",
       "\n",
       ".xr-var-name,\n",
       ".xr-var-dims,\n",
       ".xr-var-dtype,\n",
       ".xr-preview,\n",
       ".xr-attrs dt {\n",
       "  white-space: nowrap;\n",
       "  overflow: hidden;\n",
       "  text-overflow: ellipsis;\n",
       "  padding-right: 10px;\n",
       "}\n",
       "\n",
       ".xr-var-name:hover,\n",
       ".xr-var-dims:hover,\n",
       ".xr-var-dtype:hover,\n",
       ".xr-attrs dt:hover {\n",
       "  overflow: visible;\n",
       "  width: auto;\n",
       "  z-index: 1;\n",
       "}\n",
       "\n",
       ".xr-var-attrs,\n",
       ".xr-var-data,\n",
       ".xr-index-data {\n",
       "  display: none;\n",
       "  background-color: var(--xr-background-color) !important;\n",
       "  padding-bottom: 5px !important;\n",
       "}\n",
       "\n",
       ".xr-var-attrs-in:checked ~ .xr-var-attrs,\n",
       ".xr-var-data-in:checked ~ .xr-var-data,\n",
       ".xr-index-data-in:checked ~ .xr-index-data {\n",
       "  display: block;\n",
       "}\n",
       "\n",
       ".xr-var-data > table {\n",
       "  float: right;\n",
       "}\n",
       "\n",
       ".xr-var-name span,\n",
       ".xr-var-data,\n",
       ".xr-index-name div,\n",
       ".xr-index-data,\n",
       ".xr-attrs {\n",
       "  padding-left: 25px !important;\n",
       "}\n",
       "\n",
       ".xr-attrs,\n",
       ".xr-var-attrs,\n",
       ".xr-var-data,\n",
       ".xr-index-data {\n",
       "  grid-column: 1 / -1;\n",
       "}\n",
       "\n",
       "dl.xr-attrs {\n",
       "  padding: 0;\n",
       "  margin: 0;\n",
       "  display: grid;\n",
       "  grid-template-columns: 125px auto;\n",
       "}\n",
       "\n",
       ".xr-attrs dt,\n",
       ".xr-attrs dd {\n",
       "  padding: 0;\n",
       "  margin: 0;\n",
       "  float: left;\n",
       "  padding-right: 10px;\n",
       "  width: auto;\n",
       "}\n",
       "\n",
       ".xr-attrs dt {\n",
       "  font-weight: normal;\n",
       "  grid-column: 1;\n",
       "}\n",
       "\n",
       ".xr-attrs dt:hover span {\n",
       "  display: inline-block;\n",
       "  background: var(--xr-background-color);\n",
       "  padding-right: 10px;\n",
       "}\n",
       "\n",
       ".xr-attrs dd {\n",
       "  grid-column: 2;\n",
       "  white-space: pre-wrap;\n",
       "  word-break: break-all;\n",
       "}\n",
       "\n",
       ".xr-icon-database,\n",
       ".xr-icon-file-text2,\n",
       ".xr-no-icon {\n",
       "  display: inline-block;\n",
       "  vertical-align: middle;\n",
       "  width: 1em;\n",
       "  height: 1.5em !important;\n",
       "  stroke-width: 0;\n",
       "  stroke: currentColor;\n",
       "  fill: currentColor;\n",
       "}\n",
       "</style><pre class='xr-text-repr-fallback'>&lt;xarray.DataArray &#x27;time&#x27; ()&gt;\n",
       "array(&#x27;1984-12-31T00:00:00.000000000&#x27;, dtype=&#x27;datetime64[ns]&#x27;)\n",
       "Coordinates:\n",
       "    time     datetime64[ns] 1984-12-31\n",
       "Attributes:\n",
       "    long_name:     Time\n",
       "    delta_t:       0000-00-01 00:00:00\n",
       "    avg_period:    0000-00-01 00:00:00\n",
       "    axis:          T\n",
       "    actual_range:  [66474. 66838.]</pre><div class='xr-wrap' style='display:none'><div class='xr-header'><div class='xr-obj-type'>xarray.DataArray</div><div class='xr-array-name'>'time'</div></div><ul class='xr-sections'><li class='xr-section-item'><div class='xr-array-wrap'><input id='section-7dc042f5-a0b8-43e3-bbb8-70c4f3384bfd' class='xr-array-in' type='checkbox' checked><label for='section-7dc042f5-a0b8-43e3-bbb8-70c4f3384bfd' title='Show/hide data repr'><svg class='icon xr-icon-database'><use xlink:href='#icon-database'></use></svg></label><div class='xr-array-preview xr-preview'><span>1984-12-31</span></div><div class='xr-array-data'><pre>array(&#x27;1984-12-31T00:00:00.000000000&#x27;, dtype=&#x27;datetime64[ns]&#x27;)</pre></div></div></li><li class='xr-section-item'><input id='section-fb201f68-1c98-4017-9f1f-63a1ae785ddd' class='xr-section-summary-in' type='checkbox'  checked><label for='section-fb201f68-1c98-4017-9f1f-63a1ae785ddd' class='xr-section-summary' >Coordinates: <span>(1)</span></label><div class='xr-section-inline-details'></div><div class='xr-section-details'><ul class='xr-var-list'><li class='xr-var-item'><div class='xr-var-name'><span>time</span></div><div class='xr-var-dims'>()</div><div class='xr-var-dtype'>datetime64[ns]</div><div class='xr-var-preview xr-preview'>1984-12-31</div><input id='attrs-a5a79cfe-e547-4fa8-af74-65de2fc6300d' class='xr-var-attrs-in' type='checkbox' ><label for='attrs-a5a79cfe-e547-4fa8-af74-65de2fc6300d' title='Show/Hide attributes'><svg class='icon xr-icon-file-text2'><use xlink:href='#icon-file-text2'></use></svg></label><input id='data-a00ae3c9-bda0-4557-ba2e-279671b845b0' class='xr-var-data-in' type='checkbox'><label for='data-a00ae3c9-bda0-4557-ba2e-279671b845b0' title='Show/Hide data repr'><svg class='icon xr-icon-database'><use xlink:href='#icon-database'></use></svg></label><div class='xr-var-attrs'><dl class='xr-attrs'><dt><span>long_name :</span></dt><dd>Time</dd><dt><span>delta_t :</span></dt><dd>0000-00-01 00:00:00</dd><dt><span>avg_period :</span></dt><dd>0000-00-01 00:00:00</dd><dt><span>axis :</span></dt><dd>T</dd><dt><span>actual_range :</span></dt><dd>[66474. 66838.]</dd></dl></div><div class='xr-var-data'><pre>array(&#x27;1984-12-31T00:00:00.000000000&#x27;, dtype=&#x27;datetime64[ns]&#x27;)</pre></div></li></ul></div></li><li class='xr-section-item'><input id='section-91f0fb67-8d47-4600-90d5-5ff1fe25e310' class='xr-section-summary-in' type='checkbox' disabled ><label for='section-91f0fb67-8d47-4600-90d5-5ff1fe25e310' class='xr-section-summary'  title='Expand/collapse section'>Indexes: <span>(0)</span></label><div class='xr-section-inline-details'></div><div class='xr-section-details'><ul class='xr-var-list'></ul></div></li><li class='xr-section-item'><input id='section-c44a64e5-5cab-4910-8cbc-c8ca4ea37b81' class='xr-section-summary-in' type='checkbox'  checked><label for='section-c44a64e5-5cab-4910-8cbc-c8ca4ea37b81' class='xr-section-summary' >Attributes: <span>(5)</span></label><div class='xr-section-inline-details'></div><div class='xr-section-details'><dl class='xr-attrs'><dt><span>long_name :</span></dt><dd>Time</dd><dt><span>delta_t :</span></dt><dd>0000-00-01 00:00:00</dd><dt><span>avg_period :</span></dt><dd>0000-00-01 00:00:00</dd><dt><span>axis :</span></dt><dd>T</dd><dt><span>actual_range :</span></dt><dd>[66474. 66838.]</dd></dl></div></li></ul></div></div>"
      ],
      "text/plain": [
       "<xarray.DataArray 'time' ()>\n",
       "array('1984-12-31T00:00:00.000000000', dtype='datetime64[ns]')\n",
       "Coordinates:\n",
       "    time     datetime64[ns] 1984-12-31\n",
       "Attributes:\n",
       "    long_name:     Time\n",
       "    delta_t:       0000-00-01 00:00:00\n",
       "    avg_period:    0000-00-01 00:00:00\n",
       "    axis:          T\n",
       "    actual_range:  [66474. 66838.]"
      ]
     },
     "execution_count": 4,
     "metadata": {},
     "output_type": "execute_result"
    }
   ],
   "source": [
    "DS. sst.time[-1]"
   ]
  },
  {
   "cell_type": "code",
   "execution_count": 5,
   "id": "4e343455-0ac8-4b0b-a3e1-75580848d3b5",
   "metadata": {},
   "outputs": [],
   "source": [
    "titulo_short = 'GO'\n",
    "titulo = 'Global Ocean'\n",
    "sst = DS.sst.sel(lat=slice( -88, 88))\n",
    "\n",
    "#titulo_short = 'NH'\n",
    "#titulo = 'Northern hemisphere'\n",
    "#sst = sst.sst.sel(lat=slice(0,88))\n",
    "\n",
    "#titulo_short = 'SH'\n",
    "#titulo = 'Southern hemisphere'\n",
    "#sst = sst.sst.sel(lat=slice( -88, 0))"
   ]
  },
  {
   "cell_type": "markdown",
   "id": "2d94f1d6-ab3c-4fff-8423-85670d7474b1",
   "metadata": {},
   "source": [
    "### Resample data to 1 month"
   ]
  },
  {
   "cell_type": "code",
   "execution_count": 6,
   "id": "aa9e7b42-b84b-4346-abfc-882e10eff475",
   "metadata": {},
   "outputs": [],
   "source": [
    "# Monthly mean\n",
    "sst = sst.resample(time='1M').mean(dim='time',skipna=True).load()"
   ]
  },
  {
   "cell_type": "markdown",
   "id": "11c5526e-56d0-43a4-be11-034704a691d5",
   "metadata": {
    "tags": []
   },
   "source": [
    "## Global mean\n",
    "(weigthed and unweigthed)"
   ]
  },
  {
   "cell_type": "code",
   "execution_count": 7,
   "id": "22d9dedd-dbf1-4a6d-9b0b-0b0a86bce239",
   "metadata": {},
   "outputs": [],
   "source": [
    "# Calculate global mean weigthtened\n",
    "# For a rectangular grid the cosine of the latitude is proportional to the grid cell area.\n",
    "weights = np.cos(np.deg2rad(sst.lat))\n",
    "weights = weights/weights.max()\n",
    "weights.name = \"weights\"\n",
    "sst_weighted = sst.weighted(weights)\n",
    "sst_wmean = sst_weighted.mean((\"lon\", \"lat\"),skipna=True).load()"
   ]
  },
  {
   "cell_type": "markdown",
   "id": "45e6a57e-e5e4-49a3-8605-90baeb6d2bd8",
   "metadata": {},
   "source": [
    "## Seasonal cycle\n",
    "Create seasonal climatology from 1982 to 1992 and the asociated anomaly"
   ]
  },
  {
   "cell_type": "code",
   "execution_count": 8,
   "id": "87d2927d-d7c1-4686-8886-a5d2d999ee54",
   "metadata": {},
   "outputs": [],
   "source": [
    "#Create monthly climatology\n",
    "sst_clim = sst.sel(time=slice(year1,year2)).groupby('time.month').mean(dim='time').load();"
   ]
  },
  {
   "cell_type": "code",
   "execution_count": 9,
   "id": "211294d4-6a6d-4848-aaef-ba4dc7fa0705",
   "metadata": {},
   "outputs": [],
   "source": [
    "#Create anomaly\n",
    "sst_anom = sst.groupby('time.month') - sst_clim\n",
    "sst_anom.load();"
   ]
  },
  {
   "cell_type": "markdown",
   "id": "6b0b4008-f994-427e-982b-411c68a9cf4b",
   "metadata": {},
   "source": [
    "## Global mean anomaly"
   ]
  },
  {
   "cell_type": "code",
   "execution_count": 11,
   "id": "1363f1e9",
   "metadata": {},
   "outputs": [],
   "source": [
    "# Calculate global mean weigthtened\n",
    "# For a rectangular grid the cosine of the latitude is proportional to the grid cell area.\n",
    "weights = np.cos(np.deg2rad(sst.lat))\n",
    "weights = weights/weights.max()\n",
    "weights.name = \"weights\"\n",
    "sst_anom_weighted = sst_anom.weighted(weights)\n",
    "sst_anom_wmean = sst_anom_weighted.mean((\"lon\", \"lat\"),skipna=True).load()\n",
    "sst_anom_wmean_rolling = sst_anom_wmean.rolling(time=12,center=True).mean()"
   ]
  },
  {
   "cell_type": "code",
   "execution_count": 12,
   "id": "e236e566-e477-436a-9587-e336224ebe92",
   "metadata": {},
   "outputs": [
    {
     "name": "stderr",
     "output_type": "stream",
     "text": [
      "No artists with labels found to put in legend.  Note that artists whose label start with an underscore are ignored when legend() is called with no argument.\n"
     ]
    },
    {
     "data": {
      "text/plain": [
       "Text(0.5, 1.0, 'Mean Sea Surface Temperature in the Global Ocean')"
      ]
     },
     "execution_count": 12,
     "metadata": {},
     "output_type": "execute_result"
    },
    {
     "data": {
      "image/png": "[encoded data removed]",
      "text/plain": [
       "<Figure size 1000x400 with 1 Axes>"
      ]
     },
     "metadata": {},
     "output_type": "display_data"
    }
   ],
   "source": [
    "fig, ax = plt.subplots(1, 1 , figsize=(10,4))\n",
    "ax.plot(sst_wmean.time,sst_wmean)\n",
    "ax.grid()\n",
    "ax.legend()\n",
    "ax.set_title('Mean Sea Surface Temperature in the '+ titulo)"
   ]
  },
  {
   "cell_type": "code",
   "execution_count": 15,
   "id": "13aec260-bce2-4d4d-a388-c2610c7437ac",
   "metadata": {},
   "outputs": [
    {
     "name": "stderr",
     "output_type": "stream",
     "text": [
      "No artists with labels found to put in legend.  Note that artists whose label start with an underscore are ignored when legend() is called with no argument.\n"
     ]
    },
    {
     "data": {
      "text/plain": [
       "Text(0.5, 1.0, 'Mean Sea Surface Temperature anomaly in the Global Ocean\\nAnomaly computed from 1982-1992')"
      ]
     },
     "execution_count": 15,
     "metadata": {},
     "output_type": "execute_result"
    },
    {
     "data": {
      "image/png": "[encoded data removed]",
      "text/plain": [
       "<Figure size 1000x400 with 1 Axes>"
      ]
     },
     "metadata": {},
     "output_type": "display_data"
    }
   ],
   "source": [
    "fig, ax = plt.subplots(1, 1 , figsize=(10,4))\n",
    "ax.plot(sst_anom_wmean.time,sst_anom_wmean,'b')\n",
    "ax.plot(sst_anom_wmean_rolling.time,sst_anom_wmean_rolling,'r')\n",
    "\n",
    "ax.plot(sst_anom_wmean.time.isel(sst_anom_wmean.argmax(...)),\n",
    "        sst_anom_wmean.isel(sst_anom_wmean.argmax(...)),'ro')\n",
    "ax.plot(sst_anom_wmean.time.isel(sst_anom_wmean.argmin(...)),\n",
    "        sst_anom_wmean.isel(sst_anom_wmean.argmin(...)),'bo')\n",
    "\n",
    "ax.grid()\n",
    "ax.legend()\n",
    "ax.set_title('Mean Sea Surface Temperature anomaly in the '+ titulo + '\\nAnomaly computed from 1982-1992')"
   ]
  },
  {
   "cell_type": "code",
   "execution_count": 16,
   "id": "3d75dabb-3c60-49b4-9bba-3aba23d137f0",
   "metadata": {},
   "outputs": [
    {
     "data": {
      "image/png": "[encoded data removed]",
      "text/plain": [
       "<Figure size 500x500 with 1 Axes>"
      ]
     },
     "metadata": {},
     "output_type": "display_data"
    }
   ],
   "source": [
    "fig, ax = plt.subplots(1, 1 , figsize=(5,5))\n",
    "ax.contourf(sst_clim.mean(dim='lon').month,\n",
    "                 sst_clim.mean(dim='lon').lat,\n",
    "                 sst_clim.mean(dim='lon').transpose(),levels=12, vmin=-2, vmax=30)\n",
    "ax.set_ylim(-78,78)\n",
    "ax.grid()\n",
    "ax.set_title('Seasonal Climatoloy (' + year1 + '-' + year2 + ')')\n",
    "ax.set_ylabel('Latitude') \n",
    "ax.set_xlabel('Month')\n",
    "ax.grid()"
   ]
  },
  {
   "cell_type": "code",
   "execution_count": 17,
   "id": "641c508c-4db0-4b5f-8bc6-7829729559b7",
   "metadata": {},
   "outputs": [],
   "source": [
    "sst.to_netcdf('./data/Psstm_'+titulo_short+'.nc',mode='w')\n",
    "\n",
    "sst_anom.to_netcdf('./data/Psstm_anom_'+titulo_short+'.nc',mode='w')\n",
    "sst_clim.to_netcdf('./data/Psstm_clim_'+titulo_short+'.nc',mode='w')\n",
    "\n",
    "sst_wmean.to_netcdf('./data/Psstm_mean_'+titulo_short+'.nc',mode='w')\n",
    "sst_anom_wmean.to_netcdf('./data/Psstm_anom_mean_'+titulo_short+'.nc',mode='w')"
   ]
  },
  {
   "cell_type": "markdown",
   "id": "d37388e5-72bd-4a06-865a-0bcd47378bd4",
   "metadata": {},
   "source": [
    "## Annex A"
   ]
  },
  {
   "cell_type": "markdown",
   "id": "d24c316f-8ba8-49bb-9050-6a2e5dc315da",
   "metadata": {},
   "source": [
    "### Compare weigthtened and unweigthtened global means"
   ]
  },
  {
   "cell_type": "code",
   "execution_count": null,
   "id": "dbbf4389-ecd9-4db2-af35-cf9aa477cad5",
   "metadata": {},
   "outputs": [],
   "source": [
    "#Calculate global mean unweigthtened\n",
    "sst_UWmean = sst.mean(dim='lon',skipna=True).mean(dim='lat',skipna=True).load()"
   ]
  },
  {
   "cell_type": "code",
   "execution_count": null,
   "id": "807d64c3-1b00-4dad-9c47-e600ff6472f9",
   "metadata": {},
   "outputs": [],
   "source": [
    "sst_Wmean.plot(label=\"weighted\")\n",
    "sst_UWmean.plot(label=\"unweighted\")\n",
    "plt.grid()\n",
    "plt.legend()"
   ]
  },
  {
   "cell_type": "markdown",
   "id": "d5a7afa7-261c-4114-881c-70ca4d14b2ab",
   "metadata": {},
   "source": [
    "### Canary Islands example"
   ]
  },
  {
   "cell_type": "code",
   "execution_count": null,
   "id": "7a83d6b1-0776-4b83-b6cd-3422759a81d7",
   "metadata": {},
   "outputs": [],
   "source": [
    "sst_NorteTenerife = sst.sel(lon=360-16.1188,lat=28.5559,method='nearest').load()\n",
    "sst_anom_NorteTenerife = sst_anom.sel(lon=345,lat=29,method='nearest').load()\n",
    "sst_anom_NorteTenerife_rolling = sst_anom.sel(lon=345,lat=29,method='nearest').rolling(time=12,center=True).mean()\n",
    "sst_NorteTenerife_Y = sst_NorteTenerife.resample(time='1Y').mean(dim='time',skipna=True)"
   ]
  },
  {
   "cell_type": "code",
   "execution_count": null,
   "id": "e4c0f3c1-e1ea-45d7-9600-769b1aec8542",
   "metadata": {},
   "outputs": [],
   "source": [
    "fig, ax = plt.subplots(1, 1 , figsize=(14,10))\n",
    "ax.plot(sst_NorteTenerife.time,sst_NorteTenerife)\n",
    "ax.grid()\n",
    "ax.legend()\n",
    "ax.set_title('Mean Sea Surface Temperature')"
   ]
  },
  {
   "cell_type": "code",
   "execution_count": null,
   "id": "e57d1ac2-6a68-4688-a351-5ed6c5e87ee4",
   "metadata": {},
   "outputs": [],
   "source": [
    "fig, ax = plt.subplots(1, 1 , figsize=(14,10))\n",
    "ax.plot(sst_NorteTenerife_Y.time,sst_NorteTenerife_Y)\n",
    "ax.grid()\n",
    "ax.legend()\n",
    "ax.set_title('Mean yearly Seaa Surface Temperature')\n",
    "ax.plot(sst_NorteTenerife_Y.time.isel(sst_NorteTenerife_Y.argmax(...)),\n",
    "           sst_NorteTenerife_Y.isel(sst_NorteTenerife_Y.argmax(...)),'ro')\n",
    "ax.plot(sst_NorteTenerife_Y.time.isel(sst_NorteTenerife_Y.argmin(...)),\n",
    "           sst_NorteTenerife_Y.isel(sst_NorteTenerife_Y.argmin(...)),'bo')"
   ]
  },
  {
   "cell_type": "code",
   "execution_count": null,
   "id": "2870eb7b-808c-4234-a47b-3da92b5e98e7",
   "metadata": {},
   "outputs": [],
   "source": [
    "fig, ax = plt.subplots(1, 1 , figsize=(14,8))\n",
    "ax.plot(sst_anom_NorteTenerife.time,sst_anom_NorteTenerife,'b')\n",
    "ax.plot(sst_anom_NorteTenerife_rolling.time,sst_anom_NorteTenerife_rolling,'r')\n",
    "ax.plot(sst_anom_NorteTenerife.time.isel(sst_anom_NorteTenerife.argmax(...)),\n",
    "           sst_anom_NorteTenerife.isel(sst_anom_NorteTenerife.argmax(...)),'ro')\n",
    "ax.plot(sst_anom_NorteTenerife.time.isel(sst_anom_NorteTenerife.argmin(...)),\n",
    "           sst_anom_NorteTenerife.isel(sst_anom_NorteTenerife.argmin(...)),'bo')\n",
    "ax.legend()\n",
    "ax.grid()\n",
    "ax.set_title('Mean Sea Surface Temperature anomaly');"
   ]
  },
  {
   "cell_type": "code",
   "execution_count": null,
   "id": "ba388be2-ad9a-405a-a9cf-41983a393833",
   "metadata": {},
   "outputs": [],
   "source": []
  }
 ],
 "metadata": {
  "kernelspec": {
   "display_name": "Python 3 (ipykernel)",
   "language": "python",
   "name": "python3"
  },
  "language_info": {
   "codemirror_mode": {
    "name": "ipython",
    "version": 3
   },
   "file_extension": ".py",
   "mimetype": "text/x-python",
   "name": "python",
   "nbconvert_exporter": "python",
   "pygments_lexer": "ipython3",
   "version": "3.10.10"
  }
 },
 "nbformat": 4,
 "nbformat_minor": 5
}
