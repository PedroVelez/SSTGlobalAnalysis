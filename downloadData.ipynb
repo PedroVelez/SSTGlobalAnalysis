{
 "cells": [
  {
   "cell_type": "code",
   "execution_count": 1,
   "id": "1ab922ea-ccb3-44d1-a7b2-256a23468502",
   "metadata": {},
   "outputs": [],
   "source": [
    "from ftplib import FTP\n",
    "import datetime\n",
    "import xarray as xr\n",
    "import os"
   ]
  },
  {
   "cell_type": "code",
   "execution_count": null,
   "id": "02e3547f",
   "metadata": {},
   "outputs": [],
   "source": [
    "HOME=os.environ['HOME']\n",
    "USER=os.environ['USER']   "
   ]
  },
  {
   "cell_type": "code",
   "execution_count": 4,
   "id": "1aff5ca3-ab30-4e6f-a209-1f21fab10312",
   "metadata": {},
   "outputs": [],
   "source": [
    "if os.uname().nodename.lower().find('eemmmbp') != -1:\n",
    "    data_dir = HOME + '/Dropbox/Oceanografia/Data/Satelite/noaa.oisst.v2.highres/NC'\n",
    "elif os.uname().nodename.lower().find('rossby') != -1:\n",
    "    data_dir = '/data/shareddata/Satelite/noaa.oisst.v2.highres/NC'"
   ]
  },
  {
   "cell_type": "code",
   "execution_count": 6,
   "id": "dbc2c917-e08e-43d4-851b-572ac9585fde",
   "metadata": {},
   "outputs": [],
   "source": [
    "year = datetime.date.today().year\n",
    "fileThisYear = 'sst.day.mean.'+str(year)+'.nc'"
   ]
  },
  {
   "cell_type": "code",
   "execution_count": 9,
   "id": "3a9e99c0-3478-4395-9e96-bb1fd5072233",
   "metadata": {},
   "outputs": [],
   "source": [
    "os.chdir(data_dir)"
   ]
  },
  {
   "cell_type": "code",
   "execution_count": 14,
   "id": "375e9af0-93f7-4e09-b0f0-1c59813ad3e1",
   "metadata": {},
   "outputs": [],
   "source": [
    "ftp = FTP('ftp.cdc.noaa.gov')  # connect to host, default port\n",
    "ftp.login()  \n",
    "ftp.cwd('Datasets/noaa.oisst.v2.highres/');"
   ]
  },
  {
   "cell_type": "code",
   "execution_count": 15,
   "id": "fb9db22b-1cd6-48f6-b9a1-4247f22f7cb3",
   "metadata": {},
   "outputs": [],
   "source": [
    "ftp.retrbinary(\"RETR \" + fileThisYear, open(fileThisYear, 'wb').write)\n",
    "ftp.quit();"
   ]
  },
  {
   "cell_type": "code",
   "execution_count": 5,
   "id": "638ae567-b0be-414d-b93d-271e266f640b",
   "metadata": {},
   "outputs": [
    {
     "data": {
      "text/plain": [
       "'/data/shareddata/Satelite/noaa.oisst.v2.highres/NCsst.day.mean.2023.nc'"
      ]
     },
     "execution_count": 5,
     "metadata": {},
     "output_type": "execute_result"
    }
   ],
   "source": [
    "data_dir+fileThisYear"
   ]
  },
  {
   "cell_type": "code",
   "execution_count": 8,
   "id": "ce06e52c-f44c-4161-b96b-4c59aa754f6c",
   "metadata": {},
   "outputs": [],
   "source": []
  },
  {
   "cell_type": "code",
   "execution_count": 17,
   "id": "066ce184-8209-414e-a444-a53de8879bf3",
   "metadata": {},
   "outputs": [
    {
     "name": "stdout",
     "output_type": "stream",
     "text": [
      ">>>>> Last data: 06 August 2023\n"
     ]
    }
   ],
   "source": [
    "DS = xr.open_dataset(data_dir+'/'+fileThisYear)\n",
    "print('>>>>> Last data: '+DS.time[-1].dt.strftime(\"%d %B %Y\").values)"
   ]
  },
  {
   "cell_type": "code",
   "execution_count": null,
   "id": "55917d56-c975-4dbf-8dc1-169e59002f30",
   "metadata": {},
   "outputs": [],
   "source": []
  }
 ],
 "metadata": {
  "kernelspec": {
   "display_name": "Python [conda env:ocean]",
   "language": "python",
   "name": "conda-env-ocean-py"
  },
  "language_info": {
   "codemirror_mode": {
    "name": "ipython",
    "version": 3
   },
   "file_extension": ".py",
   "mimetype": "text/x-python",
   "name": "python",
   "nbconvert_exporter": "python",
   "pygments_lexer": "ipython3",
   "version": "3.11.0"
  }
 },
 "nbformat": 4,
 "nbformat_minor": 5
}
