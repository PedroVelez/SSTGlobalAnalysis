{
 "cells": [
  {
   "cell_type": "markdown",
   "id": "0037c146-943a-43df-b5d6-d1d0b5a8189a",
   "metadata": {},
   "source": [
    "# Global mean Sea Surface Temperatures\n",
    "\n",
    "**sstm** - SST monthly mean (time: 492,lat: 720,lon: 1440)\n",
    "\n",
    "**sstm_WGlobalmean** - SST weighted global mean (time)\n",
    "\n",
    "**sstm_Clim** - monthly climatology (month: 12lat: 720lon: 1440)\n",
    "\n",
    "**sstm_anom** - anomaly from monthly Climatology (time: 492, lat: 720,lon: 1440)\n",
    "\n",
    "**sstm_anom_WGlobalmean** - SST anomlay weighted global mean (time: 492)\n"
   ]
  },
  {
   "cell_type": "code",
   "execution_count": null,
   "id": "1df62f37-e43c-4f83-9107-5cebfdbacca9",
   "metadata": {},
   "outputs": [],
   "source": [
    "import matplotlib.pyplot as plt\n",
    "import numpy as np\n",
    "import xarray as xr\n",
    "import cartopy\n",
    "import cartopy.crs as ccrs\n",
    "plt.rcParams['figure.figsize'] = (10, 4)"
   ]
  },
  {
   "cell_type": "markdown",
   "id": "4e010352-6479-443b-8466-06aac184f261",
   "metadata": {},
   "source": [
    "#### Settings"
   ]
  },
  {
   "cell_type": "code",
   "execution_count": null,
   "id": "95fc918c-c177-4c1c-bee5-efd9e7fe07fd",
   "metadata": {},
   "outputs": [],
   "source": [
    "#To compute de climatoloy\n",
    "year1='1982'\n",
    "year2='1992'"
   ]
  },
  {
   "cell_type": "markdown",
   "id": "87781c5c-5ee1-4068-9962-e9cef21a2291",
   "metadata": {},
   "source": [
    "## Load data"
   ]
  },
  {
   "cell_type": "code",
   "execution_count": null,
   "id": "c48e104c-74f0-42da-b07f-59e2c92d6adb",
   "metadata": {},
   "outputs": [],
   "source": [
    "base_file = '/data/shareddata/Satelite/noaa.oisst.v2.highres/NC/sst.day.mean'\n",
    "files = [f'{base_file}.{year}.nc' for year in range(1982, 2023)]\n",
    "sst = xr.open_mfdataset(files)\n",
    "sst = sst.sst"
   ]
  },
  {
   "cell_type": "markdown",
   "id": "2d94f1d6-ab3c-4fff-8423-85670d7474b1",
   "metadata": {},
   "source": [
    "### Resample data to 1 month"
   ]
  },
  {
   "cell_type": "code",
   "execution_count": null,
   "id": "aa9e7b42-b84b-4346-abfc-882e10eff475",
   "metadata": {},
   "outputs": [],
   "source": [
    "# Monthly mean\n",
    "sstm = sst.resample(time='1M').mean(dim='time',skipna=True).load()\n",
    "sstm_SH = sstm.sel( lat=slice( -90, 0) ).load()\n",
    "sstm_NH = sstm.sel( lat=slice( 0, 90) ).load()"
   ]
  },
  {
   "cell_type": "markdown",
   "id": "11c5526e-56d0-43a4-be11-034704a691d5",
   "metadata": {
    "tags": []
   },
   "source": [
    "## Global mean\n",
    "(weigthed and unweigthed)"
   ]
  },
  {
   "cell_type": "code",
   "execution_count": null,
   "id": "22d9dedd-dbf1-4a6d-9b0b-0b0a86bce239",
   "metadata": {},
   "outputs": [],
   "source": [
    "# Calculate global mean weigthtened\n",
    "# For a rectangular grid the cosine of the latitude is proportional to the grid cell area.\n",
    "weights = np.cos(np.deg2rad(sstm.lat))\n",
    "weights.name = \"weights\"\n",
    "sstm_weighted = sstm.weighted(weights)\n",
    "sstm_WGlobalmean = sstm_weighted.mean((\"lon\", \"lat\"),skipna=True).load()"
   ]
  },
  {
   "cell_type": "markdown",
   "id": "45e6a57e-e5e4-49a3-8605-90baeb6d2bd8",
   "metadata": {},
   "source": [
    "## Seasonal cycle\n",
    "Create seasonal climatology from 1982 to 1992 and the asociated anomaly"
   ]
  },
  {
   "cell_type": "code",
   "execution_count": null,
   "id": "87d2927d-d7c1-4686-8886-a5d2d999ee54",
   "metadata": {},
   "outputs": [],
   "source": [
    "#Create monthly climatology\n",
    "sstm_Clim = sstm.sel(time=slice(year1,year2)).groupby('time.month').mean(dim='time').load();"
   ]
  },
  {
   "cell_type": "code",
   "execution_count": null,
   "id": "211294d4-6a6d-4848-aaef-ba4dc7fa0705",
   "metadata": {},
   "outputs": [],
   "source": [
    "#Create anomaly\n",
    "sstm_anom = sstm.groupby('time.month') - sstm_Clim\n",
    "sstm_anom.load();"
   ]
  },
  {
   "cell_type": "markdown",
   "id": "6b0b4008-f994-427e-982b-411c68a9cf4b",
   "metadata": {},
   "source": [
    "## Global mean anomaly"
   ]
  },
  {
   "cell_type": "code",
   "execution_count": null,
   "id": "1363f1e9",
   "metadata": {},
   "outputs": [],
   "source": [
    "# Calculate global mean weigthtened\n",
    "# For a rectangular grid the cosine of the latitude is proportional to the grid cell area.\n",
    "weights = np.cos(np.deg2rad(sstm.lat))\n",
    "weights.name = \"weights\"\n",
    "sstm_anom_weighted = sstm_anom.weighted(weights)\n",
    "sstm_anom_WGlobalmean = sstm_anom_weighted.mean((\"lon\", \"lat\"),skipna=True).load()\n",
    "sstm_anom_WGlobalmean_rolling = sstm_anom_WGlobalmean.rolling(time=12,center=True).mean()"
   ]
  },
  {
   "cell_type": "code",
   "execution_count": null,
   "id": "fba8a74d-19cb-483a-a57f-02682eeb3bb1",
   "metadata": {},
   "outputs": [],
   "source": [
    "sstm_WGlobalmean_Y = sstm_WGlobalmean.resample(time='1Y').mean(dim='time',skipna=True)\n",
    "sstm_anom_WGlobalmean_Y = sstm_anom_WGlobalmean.resample(time='1Y').mean(dim='time',skipna=True)"
   ]
  },
  {
   "cell_type": "code",
   "execution_count": null,
   "id": "e236e566-e477-436a-9587-e336224ebe92",
   "metadata": {},
   "outputs": [],
   "source": [
    "fig, ax = plt.subplots(1, 1 , figsize=(10,4))\n",
    "ax.plot(sstm_WGlobalmean.time,sstm_WGlobalmean)\n",
    "ax.plot(sstm_WGlobalmean_Y.time,sstm_WGlobalmean_Y,'-b')\n",
    "ax.grid()\n",
    "ax.legend()\n",
    "ax.set_title('Mean global Sea Surface Temperature')"
   ]
  },
  {
   "cell_type": "code",
   "execution_count": null,
   "id": "13aec260-bce2-4d4d-a388-c2610c7437ac",
   "metadata": {},
   "outputs": [],
   "source": [
    "fig, ax = plt.subplots(1, 1 , figsize=(10,4))\n",
    "ax.plot(sstm_anom_WGlobalmean.time,sstm_anom_WGlobalmean,'b')\n",
    "ax.plot(sstm_anom_WGlobalmean_Y.time,sstm_anom_WGlobalmean_Y,'-b')\n",
    "ax.plot(sstm_anom_WGlobalmean_rolling.time,sstm_anom_WGlobalmean_rolling,'r')\n",
    "\n",
    "ax.plot(sstm_anom_WGlobalmean.time.isel(sstm_anom_WGlobalmean.argmax(...)),\n",
    "        sstm_anom_WGlobalmean.isel(sstm_anom_WGlobalmean.argmax(...)),'ro')\n",
    "ax.plot(sstm_anom_WGlobalmean.time.isel(sstm_anom_WGlobalmean.argmin(...)),\n",
    "        sstm_anom_WGlobalmean.isel(sstm_anom_WGlobalmean.argmin(...)),'bo')\n",
    "\n",
    "ax.grid()\n",
    "ax.legend()\n",
    "ax.set_title('Mean global Sea Surface Temperature anomaly\\n Anomaly computed from the 1982-1992 period');\n",
    "\n"
   ]
  },
  {
   "cell_type": "code",
   "execution_count": null,
   "id": "3d75dabb-3c60-49b4-9bba-3aba23d137f0",
   "metadata": {},
   "outputs": [],
   "source": [
    "fig, ax = plt.subplots(1, 1 , figsize=(5,5))\n",
    "ax.contourf(sstm_Clim.mean(dim='lon').month,\n",
    "                 sstm_Clim.mean(dim='lon').lat,\n",
    "                 sstm_Clim.mean(dim='lon').transpose(),levels=12, vmin=-2, vmax=30)\n",
    "ax.set_ylim(-78,78)\n",
    "ax.grid()\n",
    "ax.set_title('Seasonal Climatoloy (' + year1 + '-' + year2 + ')')\n",
    "ax.set_ylabel('Latitude') \n",
    "ax.set_xlabel('Month')\n",
    "ax.grid()\n"
   ]
  },
  {
   "cell_type": "markdown",
   "id": "aba5fc6c-3725-41e5-8623-1bc97d1a6136",
   "metadata": {},
   "source": [
    "## Hemisphere analysis"
   ]
  },
  {
   "cell_type": "code",
   "execution_count": null,
   "id": "b8b28ce7-94d2-4835-9a02-409ca88b69e6",
   "metadata": {},
   "outputs": [],
   "source": [
    "# Calculate NH mean weigthtened\n",
    "weights = np.cos(np.deg2rad(sstm_NH.lat))\n",
    "weights.name = \"weights\"\n",
    "sstm_NH_weighted = sstm_NH.weighted(weights)\n",
    "sstm_NH_WGlobalmean = sstm_NH_weighted.mean((\"lon\", \"lat\"),skipna=True).load()\n",
    "\n",
    "#Compute climatology\n",
    "sstm_NH_Clim = sstm_NH.sel(time=slice(year1,year2)).groupby('time.month').mean(dim='time').load();\n",
    "\n",
    "#Create anomaly\n",
    "sstm_NH_anom = sstm_NH.groupby('time.month') - sstm_Clim\n",
    "sstm_NH_anom.load();\n",
    "\n",
    "sstm_NH_anom_weighted = sstm_NH_anom.weighted(weights)\n",
    "sstm_NH_anom_WGlobalmean = sstm_NH_anom_weighted.mean((\"lon\", \"lat\"),skipna=True).load()\n",
    "\n",
    "sstm_NH_anom_WGlobalmean_rolling = sstm_NH_anom_WGlobalmean.rolling(time=12,center=True).mean()"
   ]
  },
  {
   "cell_type": "code",
   "execution_count": null,
   "id": "172a16ad-fced-496d-abd9-cd11bed3ae70",
   "metadata": {},
   "outputs": [],
   "source": [
    "# Calculate NH mean weigthtened\n",
    "weights = np.cos(np.deg2rad(sstm_SH.lat))\n",
    "weights.name = \"weights\"\n",
    "sstm_SH_weighted = sstm_SH.weighted(weights)\n",
    "sstm_SH_WGlobalmean = sstm_SH_weighted.mean((\"lon\", \"lat\"),skipna=True).load()\n",
    "\n",
    "#Compute climatology\n",
    "sstm_SH_Clim = sstm_SH.sel(time=slice(year1,year2)).groupby('time.month').mean(dim='time').load();\n",
    "\n",
    "#Create anomaly\n",
    "sstm_SH_anom = sstm_SH.groupby('time.month') - sstm_Clim\n",
    "sstm_SH_anom.load();\n",
    "\n",
    "sstm_SH_anom_weighted = sstm_SH_anom.weighted(weights)\n",
    "sstm_SH_anom_WGlobalmean = sstm_SH_anom_weighted.mean((\"lon\", \"lat\"),skipna=True).load()\n",
    "\n",
    "sstm_SH_anom_WGlobalmean_rolling = sstm_SH_anom_WGlobalmean.rolling(time=12,center=True).mean()"
   ]
  },
  {
   "cell_type": "code",
   "execution_count": null,
   "id": "7d9f93ae-73b3-4b58-a262-0ab1f43831e4",
   "metadata": {},
   "outputs": [],
   "source": [
    "fig, ax = plt.subplots(3, 2 , figsize=(14,12))\n",
    "\n",
    "ax[0,0].plot(sstm_NH_WGlobalmean.time,sstm_NH_WGlobalmean) \n",
    "ax[0,0].set_title('Northern hemisphere SST mean')\n",
    "ax[0,0].set_ylim(14,24)\n",
    "ax[0,0].grid()\n",
    "ax[0,1].plot(sstm_SH_WGlobalmean.time,sstm_SH_WGlobalmean) \n",
    "ax[0,1].set_title('Southern hemisphere SST mean')\n",
    "ax[0,1].set_ylim(14.7,23.2)\n",
    "ax[0,1].grid()\n",
    "\n",
    "ax[1,0].plot(sstm_NH_anom_WGlobalmean.time,sstm_NH_anom_WGlobalmean) \n",
    "ax[1,0].set_title('Northern hemisphere SST mean anomlay')\n",
    "ax[1,0].set_ylim(-0.25,1.1)\n",
    "ax[1,0].grid()\n",
    "ax[1,1].plot(sstm_SH_anom_WGlobalmean.time,sstm_SH_anom_WGlobalmean) \n",
    "ax[1,1].set_title('Southern hemisphere SST mean anomlay')\n",
    "ax[1,1].set_ylim(-0.25,1.1)\n",
    "ax[1,1].grid()\n",
    "\n",
    "ax[2,0].contourf(sstm_NH_Clim.mean(dim='lon').month,\n",
    "                 sstm_NH_Clim.mean(dim='lon').lat,\n",
    "                 sstm_NH_Clim.mean(dim='lon').transpose(),levels=12, vmin=-2, vmax=30)\n",
    "ax[2,0].set_ylim(0,80)\n",
    "ax[2,0].grid()\n",
    "ax[2,0].set_title('Seasonal Climatoloy (' + year1 + '-' + year2 + ')')\n",
    "ax[2,0].set_ylabel('Latitude') \n",
    "ax[2,0].set_xlabel('Month')\n",
    "ax[2,0].grid()\n",
    "ax[2,1].contourf(sstm_SH_Clim.mean(dim='lon').month,\n",
    "                 sstm_SH_Clim.mean(dim='lon').lat,\n",
    "                 sstm_SH_Clim.mean(dim='lon').transpose(),levels=12, vmin=-2, vmax=30)\n",
    "\n",
    "ax[2,1].set_ylim(-80,0)\n",
    "ax[2,1].grid()\n",
    "ax[2,1].set_title('Seasonal Climatoloy (' + year1 + '-' + year2 + ')')\n",
    "ax[2,1].set_ylabel('Latitude') \n",
    "ax[2,1].set_xlabel('Month')\n",
    "\n",
    "\n",
    "\n",
    "\n",
    "#ax[0].set_title('Mean global Sea Surface Temperature')\n"
   ]
  },
  {
   "cell_type": "code",
   "execution_count": null,
   "id": "641c508c-4db0-4b5f-8bc6-7829729559b7",
   "metadata": {},
   "outputs": [],
   "source": [
    "sstm.to_netcdf('sstm.nc')\n",
    "sstm_WGlobalmean.to_netcdf('sstm_WGlobalmean.nc')\n",
    "sstm_Clim.to_netcdf('sstm_Clim.nc')\n",
    "sstm_anom.to_netcdf('sstm_anom.nc')\n",
    "sstm_anom_WGlobalmean.to_netcdf('sstm_anom_WGlobalmean.nc')"
   ]
  },
  {
   "cell_type": "markdown",
   "id": "d37388e5-72bd-4a06-865a-0bcd47378bd4",
   "metadata": {},
   "source": [
    "## Annex A"
   ]
  },
  {
   "cell_type": "markdown",
   "id": "d24c316f-8ba8-49bb-9050-6a2e5dc315da",
   "metadata": {},
   "source": [
    "### Compare weigthtened and unweigthtened global means"
   ]
  },
  {
   "cell_type": "code",
   "execution_count": null,
   "id": "dbbf4389-ecd9-4db2-af35-cf9aa477cad5",
   "metadata": {},
   "outputs": [],
   "source": [
    "#Calculate global mean unweigthtened\n",
    "sstm_UWGlobalmean = sstm.mean(dim='lon',skipna=True).mean(dim='lat',skipna=True).load()"
   ]
  },
  {
   "cell_type": "code",
   "execution_count": null,
   "id": "807d64c3-1b00-4dad-9c47-e600ff6472f9",
   "metadata": {},
   "outputs": [],
   "source": [
    "sstm_WGlobalmean.plot(label=\"weighted\")\n",
    "sstm_UWGlobalmean.plot(label=\"unweighted\")\n",
    "plt.grid()\n",
    "plt.legend()"
   ]
  },
  {
   "cell_type": "markdown",
   "id": "d5a7afa7-261c-4114-881c-70ca4d14b2ab",
   "metadata": {},
   "source": [
    "### Canary Islands example"
   ]
  },
  {
   "cell_type": "code",
   "execution_count": null,
   "id": "7a83d6b1-0776-4b83-b6cd-3422759a81d7",
   "metadata": {},
   "outputs": [],
   "source": [
    "sstm_NorteTenerife = sstm.sel(lon=360-16.1188,lat=28.5559,method='nearest').load()\n",
    "sstm_anom_NorteTenerife = sstm_anom.sel(lon=345,lat=29,method='nearest').load()\n",
    "sstm_anom_NorteTenerife_rolling = sstm_anom.sel(lon=345,lat=29,method='nearest').rolling(time=12,center=True).mean()\n",
    "sstm_NorteTenerife_Y = sstm_NorteTenerife.resample(time='1Y').mean(dim='time',skipna=True)"
   ]
  },
  {
   "cell_type": "code",
   "execution_count": null,
   "id": "e4c0f3c1-e1ea-45d7-9600-769b1aec8542",
   "metadata": {},
   "outputs": [],
   "source": [
    "fig, ax = plt.subplots(1, 1 , figsize=(14,10))\n",
    "ax.plot(sstm_NorteTenerife.time,sstm_NorteTenerife)\n",
    "ax.grid()\n",
    "ax.legend()\n",
    "ax.set_title('Mean global Sea Surface Temperature')"
   ]
  },
  {
   "cell_type": "code",
   "execution_count": null,
   "id": "e57d1ac2-6a68-4688-a351-5ed6c5e87ee4",
   "metadata": {},
   "outputs": [],
   "source": [
    "fig, ax = plt.subplots(1, 1 , figsize=(14,10))\n",
    "ax.plot(sstm_NorteTenerife_Y.time,sstm_NorteTenerife_Y)\n",
    "ax.grid()\n",
    "ax.legend()\n",
    "ax.set_title('Mean global Sea Surface Temperature')\n",
    "ax.plot(sstm_NorteTenerife_Y.time.isel(sstm_NorteTenerife_Y.argmax(...)),\n",
    "           sstm_NorteTenerife_Y.isel(sstm_NorteTenerife_Y.argmax(...)),'ro')\n",
    "ax.plot(sstm_NorteTenerife_Y.time.isel(sstm_NorteTenerife_Y.argmin(...)),\n",
    "           sstm_NorteTenerife_Y.isel(sstm_NorteTenerife_Y.argmin(...)),'bo')"
   ]
  },
  {
   "cell_type": "code",
   "execution_count": null,
   "id": "2870eb7b-808c-4234-a47b-3da92b5e98e7",
   "metadata": {},
   "outputs": [],
   "source": [
    "fig, ax = plt.subplots(1, 1 , figsize=(14,8))\n",
    "ax.plot(sstm_anom_NorteTenerife.time,sstm_anom_NorteTenerife,'b')\n",
    "ax.plot(sstm_anom_NorteTenerife_rolling.time,sstm_anom_NorteTenerife_rolling,'r')\n",
    "ax.plot(sstm_anom_NorteTenerife.time.isel(sstm_anom_NorteTenerife.argmax(...)),\n",
    "           sstm_anom_NorteTenerife.isel(sstm_anom_NorteTenerife.argmax(...)),'ro')\n",
    "ax.plot(sstm_anom_NorteTenerife.time.isel(sstm_anom_NorteTenerife.argmin(...)),\n",
    "           sstm_anom_NorteTenerife.isel(sstm_anom_NorteTenerife.argmin(...)),'bo')\n",
    "ax.legend()\n",
    "ax.grid()\n",
    "ax.set_title('Mean global Sea Surface Temperature anomaly');"
   ]
  },
  {
   "cell_type": "code",
   "execution_count": null,
   "id": "f2101fcf-3362-4500-a5df-0fd75d6331e4",
   "metadata": {},
   "outputs": [],
   "source": [
    "sstm_anom_NorteTenerife.time.isel(sstm_anom_NorteTenerife.argmax(...)).dt.strftime('%Y')"
   ]
  },
  {
   "cell_type": "code",
   "execution_count": null,
   "id": "b7121e5e-d99c-4cd4-b0a6-b44efc4450d6",
   "metadata": {},
   "outputs": [],
   "source": [
    "sstm.to_netcdf('noaa.oisst.v2.highres.sstm.nc')\n",
    "sstm_WGlobalmean.to_netcdf('noaa.oisst.v2.highres.sstmWGM.nc')\n",
    "sstm_Clim.to_netcdf('noaa.oisst.v2.highres.sstmC.nc')\n",
    "sstm_anom.to_netcdf('noaa.oisst.v2.highres.sstmA.nc')\n",
    "sstm_anom_WGlobalmean.to_netcdf('noaa.oisst.v2.highres.sstmAWGM.nc')"
   ]
  },
  {
   "cell_type": "code",
   "execution_count": null,
   "id": "11acdeaf-1272-44b4-bfd1-a59d6f8dc07d",
   "metadata": {},
   "outputs": [],
   "source": [
    "import pandas as pd\n",
    "time = pd.date_range(\"2000-01-01\", \"2004-12-31\")\n",
    "base = xr.DataArray(data=np.ones((time.size, 3, 2)),\n",
    "                    dims=(\"time\", \"lat\", \"lon\"),\n",
    "                    coords={\"time\": time,\"lat\": [1, 2, 3],\"lon\": [0.5, 1.5],},)"
   ]
  },
  {
   "cell_type": "code",
   "execution_count": null,
   "id": "3b7154f8-0025-4b06-9220-9b7e6e59720f",
   "metadata": {},
   "outputs": [],
   "source": [
    "seasonality = xr.DataArray(\n",
    "      data=np.sin((time.dayofyear / 365.0) * (2 * np.pi)),\n",
    "      coords={\"time\": time},\n",
    "      dims=[\"time\"],)"
   ]
  },
  {
   "cell_type": "code",
   "execution_count": null,
   "id": "fc7c0f15-3660-4dcc-9dea-ccb7aeb028a7",
   "metadata": {},
   "outputs": [],
   "source": [
    "trend = xr.DataArray(\n",
    "      data=(time.year - 2000) * 0.1,\n",
    "      coords={\"time\": time},\n",
    "      dims=[\"time\"])"
   ]
  },
  {
   "cell_type": "code",
   "execution_count": null,
   "id": "98405ea7-a6f0-47ca-b7ad-fc7212e3b7ce",
   "metadata": {},
   "outputs": [],
   "source": [
    "da = base + seasonality + trend"
   ]
  },
  {
   "cell_type": "code",
   "execution_count": null,
   "id": "c687c8ed-a3ef-4c5f-ab40-7fbb0246838c",
   "metadata": {},
   "outputs": [],
   "source": [
    "location = da.isel(lat=0, lon=0)\n",
    "location"
   ]
  },
  {
   "cell_type": "code",
   "execution_count": null,
   "id": "87da0706-1c19-4385-bbb6-ec559fad17dd",
   "metadata": {},
   "outputs": [],
   "source": [
    "dataframe = location.groupby(da[\"time\"].dt.dayofyear).min().drop([\"lat\",\n",
    "  \"lon\"]).to_dataframe(name=\"min\")\n",
    "dataframe[\"max\"] = location.groupby(da[\"time\"].dt.dayofyear).max().values"
   ]
  },
  {
   "cell_type": "code",
   "execution_count": null,
   "id": "1a329f0b-59a5-4f7d-bb3f-c67ee25bc2c2",
   "metadata": {},
   "outputs": [],
   "source": [
    "dataframe"
   ]
  },
  {
   "cell_type": "code",
   "execution_count": null,
   "id": "ef85250f-9e2c-4bd0-b0cf-3b2824abe675",
   "metadata": {},
   "outputs": [],
   "source": []
  },
  {
   "cell_type": "code",
   "execution_count": null,
   "id": "67ae926d-9765-44cb-8a7a-c6aa268c43ab",
   "metadata": {},
   "outputs": [],
   "source": [
    "for year, yearda in location.groupby(location[\"time\"].dt.year):\n",
    "      dataframe[year] = pd.Series(index=yearda[\"time\"].dt.dayofyear,\n",
    "  data=yearda.values)"
   ]
  },
  {
   "cell_type": "code",
   "execution_count": null,
   "id": "5a8ca254-ce1d-4f73-b202-f520b3711075",
   "metadata": {},
   "outputs": [],
   "source": [
    "yearda"
   ]
  },
  {
   "cell_type": "code",
   "execution_count": null,
   "id": "907948fb-a73c-4c14-9451-ad33cf2b6967",
   "metadata": {},
   "outputs": [],
   "source": [
    "location2=sstm_anom_WGlobalmean"
   ]
  },
  {
   "cell_type": "code",
   "execution_count": null,
   "id": "0534fdc5-e007-484f-8303-e8cc62e23311",
   "metadata": {},
   "outputs": [],
   "source": [
    "dataframe2 = location2.groupby(location2.time.dt.month).min().to_dataframe(name=\"min\")\n",
    "dataframe2[\"max\"] = location2.groupby(location2.time.dt.month).max().values"
   ]
  },
  {
   "cell_type": "code",
   "execution_count": null,
   "id": "83f5534d-e24a-48fd-8862-7bef9ae8d89c",
   "metadata": {},
   "outputs": [],
   "source": [
    "for year, yearda in location2.groupby(location2.time.dt.year):\n",
    "    dataframe2[year] = pd.Series(index=yearda[\"time\"].dt.month,\n",
    "                         data=yearda.values)\n",
    "    \n",
    "    "
   ]
  },
  {
   "cell_type": "code",
   "execution_count": null,
   "id": "99aa868c-9418-4117-9ce9-49cdeddf8bde",
   "metadata": {},
   "outputs": [],
   "source": []
  },
  {
   "cell_type": "code",
   "execution_count": null,
   "id": "a8981c90-1bfe-45c6-b97a-c49d294a271d",
   "metadata": {},
   "outputs": [],
   "source": [
    "fig, ax = plt.subplots()\n",
    "ax.fill_between(x=dataframe2.index, y1=dataframe2[\"min\"], y2=dataframe2[\"max\"],\n",
    "alpha=0.5, color=\"orange\")\n",
    "dataframe2.plot(ax=ax)"
   ]
  },
  {
   "cell_type": "code",
   "execution_count": null,
   "id": "53d0bc13-9386-4305-91a4-07c17b79c551",
   "metadata": {},
   "outputs": [],
   "source": [
    "location2.time.dt.dayofyear.sel(time='1992').values"
   ]
  },
  {
   "cell_type": "code",
   "execution_count": null,
   "id": "069ef07e-ef24-42b7-bfd2-c69c1be4624e",
   "metadata": {},
   "outputs": [],
   "source": []
  }
 ],
 "metadata": {
  "kernelspec": {
   "display_name": "Python [conda env:ocean]",
   "language": "python",
   "name": "conda-env-ocean-py"
  },
  "language_info": {
   "codemirror_mode": {
    "name": "ipython",
    "version": 3
   },
   "file_extension": ".py",
   "mimetype": "text/x-python",
   "name": "python",
   "nbconvert_exporter": "python",
   "pygments_lexer": "ipython3",
   "version": "3.11.0"
  }
 },
 "nbformat": 4,
 "nbformat_minor": 5
}
